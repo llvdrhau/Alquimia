{
  "nbformat": 4,
  "nbformat_minor": 0,
  "metadata": {
    "colab": {
      "provenance": [],
      "collapsed_sections": []
    },
    "kernelspec": {
      "name": "python3",
      "display_name": "Python 3"
    },
    "language_info": {
      "name": "python"
    }
  },
  "cells": [
    {
      "cell_type": "markdown",
      "source": [
        "##This file is to check out the biomass formation reaction of the model P. acidipropionicum \n",
        "model name: PAC_4875_model.xml\n",
        "\n",
        "workflow: \n",
        "\n",
        "find reaction, see where all the carbon reactions are at \n"
      ],
      "metadata": {
        "id": "c9gzVUmrDX3e"
      }
    },
    {
      "cell_type": "code",
      "source": [
        "!setup.py install\n",
        "!pip install cobra"
      ],
      "metadata": {
        "id": "sx3tPruLF6vl",
        "colab": {
          "base_uri": "https://localhost:8080/"
        },
        "outputId": "f2d3a6e2-c672-4a41-c16b-0c99c689b146"
      },
      "execution_count": 1,
      "outputs": [
        {
          "output_type": "stream",
          "name": "stdout",
          "text": [
            "/bin/bash: setup.py: command not found\n",
            "Looking in indexes: https://pypi.org/simple, https://us-python.pkg.dev/colab-wheels/public/simple/\n",
            "Collecting cobra\n",
            "  Downloading cobra-0.25.0-py2.py3-none-any.whl (1.2 MB)\n",
            "\u001b[K     |████████████████████████████████| 1.2 MB 5.1 MB/s \n",
            "\u001b[?25hCollecting rich>=8.0\n",
            "  Downloading rich-12.6.0-py3-none-any.whl (237 kB)\n",
            "\u001b[K     |████████████████████████████████| 237 kB 50.7 MB/s \n",
            "\u001b[?25hRequirement already satisfied: numpy~=1.13 in /usr/local/lib/python3.7/dist-packages (from cobra) (1.21.6)\n",
            "Collecting depinfo~=1.7\n",
            "  Downloading depinfo-1.7.0-py2.py3-none-any.whl (8.6 kB)\n",
            "Collecting ruamel.yaml~=0.16\n",
            "  Downloading ruamel.yaml-0.17.21-py3-none-any.whl (109 kB)\n",
            "\u001b[K     |████████████████████████████████| 109 kB 56.9 MB/s \n",
            "\u001b[?25hCollecting swiglpk\n",
            "  Downloading swiglpk-5.0.5-cp37-cp37m-manylinux_2_17_x86_64.manylinux2014_x86_64.whl (2.3 MB)\n",
            "\u001b[K     |████████████████████████████████| 2.3 MB 34.0 MB/s \n",
            "\u001b[?25hCollecting optlang~=1.5\n",
            "  Downloading optlang-1.5.2-py2.py3-none-any.whl (147 kB)\n",
            "\u001b[K     |████████████████████████████████| 147 kB 58.4 MB/s \n",
            "\u001b[?25hRequirement already satisfied: pydantic~=1.6 in /usr/local/lib/python3.7/dist-packages (from cobra) (1.9.2)\n",
            "Requirement already satisfied: future in /usr/local/lib/python3.7/dist-packages (from cobra) (0.16.0)\n",
            "Requirement already satisfied: appdirs~=1.4 in /usr/local/lib/python3.7/dist-packages (from cobra) (1.4.4)\n",
            "Requirement already satisfied: pandas~=1.0 in /usr/local/lib/python3.7/dist-packages (from cobra) (1.3.5)\n",
            "Collecting httpx~=0.14\n",
            "  Downloading httpx-0.23.0-py3-none-any.whl (84 kB)\n",
            "\u001b[K     |████████████████████████████████| 84 kB 3.7 MB/s \n",
            "\u001b[?25hCollecting diskcache~=5.0\n",
            "  Downloading diskcache-5.4.0-py3-none-any.whl (44 kB)\n",
            "\u001b[K     |████████████████████████████████| 44 kB 3.1 MB/s \n",
            "\u001b[?25hCollecting python-libsbml~=5.19\n",
            "  Downloading python_libsbml-5.19.7-cp37-cp37m-manylinux_2_17_x86_64.manylinux2014_x86_64.whl (6.8 MB)\n",
            "\u001b[K     |████████████████████████████████| 6.8 MB 34.2 MB/s \n",
            "\u001b[?25hRequirement already satisfied: importlib-resources in /usr/local/lib/python3.7/dist-packages (from cobra) (5.10.0)\n",
            "Requirement already satisfied: importlib-metadata in /usr/local/lib/python3.7/dist-packages (from depinfo~=1.7->cobra) (4.13.0)\n",
            "Collecting sniffio\n",
            "  Downloading sniffio-1.3.0-py3-none-any.whl (10 kB)\n",
            "Collecting rfc3986[idna2008]<2,>=1.3\n",
            "  Downloading rfc3986-1.5.0-py2.py3-none-any.whl (31 kB)\n",
            "Requirement already satisfied: certifi in /usr/local/lib/python3.7/dist-packages (from httpx~=0.14->cobra) (2022.9.24)\n",
            "Collecting httpcore<0.16.0,>=0.15.0\n",
            "  Downloading httpcore-0.15.0-py3-none-any.whl (68 kB)\n",
            "\u001b[K     |████████████████████████████████| 68 kB 6.1 MB/s \n",
            "\u001b[?25hCollecting anyio==3.*\n",
            "  Downloading anyio-3.6.2-py3-none-any.whl (80 kB)\n",
            "\u001b[K     |████████████████████████████████| 80 kB 9.6 MB/s \n",
            "\u001b[?25hCollecting h11<0.13,>=0.11\n",
            "  Downloading h11-0.12.0-py3-none-any.whl (54 kB)\n",
            "\u001b[K     |████████████████████████████████| 54 kB 3.7 MB/s \n",
            "\u001b[?25hRequirement already satisfied: idna>=2.8 in /usr/local/lib/python3.7/dist-packages (from anyio==3.*->httpcore<0.16.0,>=0.15.0->httpx~=0.14->cobra) (2.10)\n",
            "Requirement already satisfied: typing-extensions in /usr/local/lib/python3.7/dist-packages (from anyio==3.*->httpcore<0.16.0,>=0.15.0->httpx~=0.14->cobra) (4.1.1)\n",
            "Requirement already satisfied: sympy>=1.0 in /usr/local/lib/python3.7/dist-packages (from optlang~=1.5->cobra) (1.7.1)\n",
            "Requirement already satisfied: six>=1.9 in /usr/local/lib/python3.7/dist-packages (from optlang~=1.5->cobra) (1.15.0)\n",
            "Requirement already satisfied: python-dateutil>=2.7.3 in /usr/local/lib/python3.7/dist-packages (from pandas~=1.0->cobra) (2.8.2)\n",
            "Requirement already satisfied: pytz>=2017.3 in /usr/local/lib/python3.7/dist-packages (from pandas~=1.0->cobra) (2022.4)\n",
            "Requirement already satisfied: pygments<3.0.0,>=2.6.0 in /usr/local/lib/python3.7/dist-packages (from rich>=8.0->cobra) (2.6.1)\n",
            "Collecting commonmark<0.10.0,>=0.9.0\n",
            "  Downloading commonmark-0.9.1-py2.py3-none-any.whl (51 kB)\n",
            "\u001b[K     |████████████████████████████████| 51 kB 7.8 MB/s \n",
            "\u001b[?25hCollecting ruamel.yaml.clib>=0.2.6\n",
            "  Downloading ruamel.yaml.clib-0.2.7-cp37-cp37m-manylinux_2_17_x86_64.manylinux2014_x86_64.manylinux_2_24_x86_64.whl (500 kB)\n",
            "\u001b[K     |████████████████████████████████| 500 kB 58.4 MB/s \n",
            "\u001b[?25hRequirement already satisfied: mpmath>=0.19 in /usr/local/lib/python3.7/dist-packages (from sympy>=1.0->optlang~=1.5->cobra) (1.2.1)\n",
            "Requirement already satisfied: zipp>=0.5 in /usr/local/lib/python3.7/dist-packages (from importlib-metadata->depinfo~=1.7->cobra) (3.9.0)\n",
            "Installing collected packages: sniffio, rfc3986, h11, anyio, swiglpk, ruamel.yaml.clib, httpcore, commonmark, ruamel.yaml, rich, python-libsbml, optlang, httpx, diskcache, depinfo, cobra\n",
            "Successfully installed anyio-3.6.2 cobra-0.25.0 commonmark-0.9.1 depinfo-1.7.0 diskcache-5.4.0 h11-0.12.0 httpcore-0.15.0 httpx-0.23.0 optlang-1.5.2 python-libsbml-5.19.7 rfc3986-1.5.0 rich-12.6.0 ruamel.yaml-0.17.21 ruamel.yaml.clib-0.2.7 sniffio-1.3.0 swiglpk-5.0.5\n"
          ]
        }
      ]
    },
    {
      "cell_type": "code",
      "source": [
        "from google.colab import drive\n",
        "drive.mount('/content/drive')"
      ],
      "metadata": {
        "colab": {
          "base_uri": "https://localhost:8080/"
        },
        "id": "NuZcGkaNlIcg",
        "outputId": "ad0c56bd-7b2b-4761-90bd-db39eb61cb56"
      },
      "execution_count": 6,
      "outputs": [
        {
          "output_type": "stream",
          "name": "stdout",
          "text": [
            "Mounted at /content/drive\n"
          ]
        }
      ]
    },
    {
      "cell_type": "code",
      "source": [
        "# import modules \n",
        "import cobra.io\n",
        "import os\n",
        "from cobra.flux_analysis import flux_variability_analysis\n",
        "import matplotlib.pyplot as plt\n",
        "import numpy as np"
      ],
      "metadata": {
        "id": "1IHiZxUZEOGT"
      },
      "execution_count": 2,
      "outputs": []
    },
    {
      "cell_type": "markdown",
      "source": [
        "usefull functions "
      ],
      "metadata": {
        "id": "O3O9miL3G8J-"
      }
    },
    {
      "cell_type": "code",
      "source": [
        "def showFormula(rnx):\n",
        "  reactants = rnx.reactants\n",
        "  products = rnx.products\n",
        "\n",
        "  print('reactants')\n",
        "  for i in reactants: \n",
        "    if i.formula: \n",
        "      print(i.formula)\n",
        "    else: \n",
        "      print('{} is missing'.format(i.name))\n",
        "\n",
        "  print('')\n",
        "  print('products')\n",
        "  for i in products:\n",
        "    if i.formula: \n",
        "      print(i.formula)\n",
        "    else: \n",
        "      print('missing') \n",
        "\n",
        "def writeReactionInFormulas(rxn):\n",
        "  reactants = rxn.reactants\n",
        "  products = rxn.products\n",
        "  eq = ''\n",
        "  for i in reactants: \n",
        "    if i.formula: \n",
        "       eq += ' + {}'.format(i.formula)\n",
        "  eq += ' = '\n",
        "  for i in products:\n",
        "    if i.formula: \n",
        "      eq += ' + {}'.format(i.formula)\n",
        "  return eq "
      ],
      "metadata": {
        "id": "ndldtW6kZaoH"
      },
      "execution_count": 3,
      "outputs": []
    },
    {
      "cell_type": "markdown",
      "source": [
        "#Analyze model"
      ],
      "metadata": {
        "id": "KnnHdD2hZbHG"
      }
    },
    {
      "cell_type": "code",
      "source": [
        "model = cobra.io.read_sbml_model('/content/drive/MyDrive/Colab Notebooks/models/PAC_4875_model.xml') \n",
        "#have a look at the model summary \n",
        "opt = model.optimize()\n",
        "model.summary()"
      ],
      "metadata": {
        "colab": {
          "base_uri": "https://localhost:8080/",
          "height": 1000
        },
        "id": "02efRDIIG89a",
        "outputId": "41525dca-d8df-46e6-cbd7-52a3ebd7eeb3"
      },
      "execution_count": 7,
      "outputs": [
        {
          "output_type": "execute_result",
          "data": {
            "text/plain": [
              "<cobra.summary.model_summary.ModelSummary at 0x7f2c989219d0>"
            ],
            "text/html": [
              "<h3>Objective</h3><p>1.0 biomass_c0 = 0.8561859881163572</p><h4>Uptake</h4><table border=\"1\" class=\"dataframe\">\n",
              "  <thead>\n",
              "    <tr style=\"text-align: right;\">\n",
              "      <th>Metabolite</th>\n",
              "      <th>Reaction</th>\n",
              "      <th>Flux</th>\n",
              "      <th>C-Number</th>\n",
              "      <th>C-Flux</th>\n",
              "    </tr>\n",
              "  </thead>\n",
              "  <tbody>\n",
              "    <tr>\n",
              "      <td>S_cpd00009_ext</td>\n",
              "      <td>Ex_S_cpd00009_ext</td>\n",
              "      <td>1.138</td>\n",
              "      <td>0</td>\n",
              "      <td>0.00%</td>\n",
              "    </tr>\n",
              "    <tr>\n",
              "      <td>S_cpd00013_ext</td>\n",
              "      <td>Ex_S_cpd00013_ext</td>\n",
              "      <td>7.973</td>\n",
              "      <td>0</td>\n",
              "      <td>0.00%</td>\n",
              "    </tr>\n",
              "    <tr>\n",
              "      <td>S_cpd00027_ext</td>\n",
              "      <td>Ex_S_cpd00027_ext</td>\n",
              "      <td>10</td>\n",
              "      <td>6</td>\n",
              "      <td>99.92%</td>\n",
              "    </tr>\n",
              "    <tr>\n",
              "      <td>S_cpd00030_ext</td>\n",
              "      <td>Ex_S_cpd00030_ext</td>\n",
              "      <td>0.0005644</td>\n",
              "      <td>0</td>\n",
              "      <td>0.00%</td>\n",
              "    </tr>\n",
              "    <tr>\n",
              "      <td>S_cpd00048_ext</td>\n",
              "      <td>Ex_S_cpd00048_ext</td>\n",
              "      <td>0.003532</td>\n",
              "      <td>0</td>\n",
              "      <td>0.00%</td>\n",
              "    </tr>\n",
              "    <tr>\n",
              "      <td>S_cpd00099_ext</td>\n",
              "      <td>Ex_S_cpd00099_ext</td>\n",
              "      <td>0.004241</td>\n",
              "      <td>0</td>\n",
              "      <td>0.00%</td>\n",
              "    </tr>\n",
              "    <tr>\n",
              "      <td>S_cpd00104_ext</td>\n",
              "      <td>Ex_S_cpd00104_ext</td>\n",
              "      <td>0.003806</td>\n",
              "      <td>10</td>\n",
              "      <td>0.06%</td>\n",
              "    </tr>\n",
              "    <tr>\n",
              "      <td>S_cpd00149_ext</td>\n",
              "      <td>Ex_S_cpd00149_ext</td>\n",
              "      <td>0.0006082</td>\n",
              "      <td>0</td>\n",
              "      <td>0.00%</td>\n",
              "    </tr>\n",
              "    <tr>\n",
              "      <td>S_cpd00205_ext</td>\n",
              "      <td>Ex_S_cpd00205_ext</td>\n",
              "      <td>0.159</td>\n",
              "      <td>0</td>\n",
              "      <td>0.00%</td>\n",
              "    </tr>\n",
              "    <tr>\n",
              "      <td>S_cpd00239_ext</td>\n",
              "      <td>Ex_S_cpd00239_ext</td>\n",
              "      <td>0.1706</td>\n",
              "      <td>0</td>\n",
              "      <td>0.00%</td>\n",
              "    </tr>\n",
              "    <tr>\n",
              "      <td>S_cpd00254_ext</td>\n",
              "      <td>Ex_S_cpd00254_ext</td>\n",
              "      <td>0.007066</td>\n",
              "      <td>0</td>\n",
              "      <td>0.00%</td>\n",
              "    </tr>\n",
              "    <tr>\n",
              "      <td>S_cpd00644_ext</td>\n",
              "      <td>Ex_S_cpd00644_ext</td>\n",
              "      <td>0.001211</td>\n",
              "      <td>9</td>\n",
              "      <td>0.02%</td>\n",
              "    </tr>\n",
              "    <tr>\n",
              "      <td>S_cpd10516_ext</td>\n",
              "      <td>Ex_S_cpd10516_ext</td>\n",
              "      <td>0.0213</td>\n",
              "      <td>0</td>\n",
              "      <td>0.00%</td>\n",
              "    </tr>\n",
              "  </tbody>\n",
              "</table><h4>Secretion</h4><table border=\"1\" class=\"dataframe\">\n",
              "  <thead>\n",
              "    <tr style=\"text-align: right;\">\n",
              "      <th>Metabolite</th>\n",
              "      <th>Reaction</th>\n",
              "      <th>Flux</th>\n",
              "      <th>C-Number</th>\n",
              "      <th>C-Flux</th>\n",
              "    </tr>\n",
              "  </thead>\n",
              "  <tbody>\n",
              "    <tr>\n",
              "      <td>S_biomass_ext</td>\n",
              "      <td>Ex_S_biomass_ext</td>\n",
              "      <td>-0.8562</td>\n",
              "      <td>0</td>\n",
              "      <td>0.00%</td>\n",
              "    </tr>\n",
              "    <tr>\n",
              "      <td>S_cpd00001_ext</td>\n",
              "      <td>Ex_S_cpd00001_ext</td>\n",
              "      <td>-34.15</td>\n",
              "      <td>0</td>\n",
              "      <td>0.00%</td>\n",
              "    </tr>\n",
              "    <tr>\n",
              "      <td>S_cpd00011_ext</td>\n",
              "      <td>Ex_S_cpd00011_ext</td>\n",
              "      <td>-1.497</td>\n",
              "      <td>1</td>\n",
              "      <td>5.34%</td>\n",
              "    </tr>\n",
              "    <tr>\n",
              "      <td>S_cpd00029_ext</td>\n",
              "      <td>Ex_S_cpd00029_ext</td>\n",
              "      <td>-3.395</td>\n",
              "      <td>2</td>\n",
              "      <td>24.22%</td>\n",
              "    </tr>\n",
              "    <tr>\n",
              "      <td>S_cpd00047_ext</td>\n",
              "      <td>Ex_S_cpd00047_ext</td>\n",
              "      <td>-0.1816</td>\n",
              "      <td>1</td>\n",
              "      <td>0.65%</td>\n",
              "    </tr>\n",
              "    <tr>\n",
              "      <td>S_cpd00067_ext</td>\n",
              "      <td>Ex_S_cpd00067_ext</td>\n",
              "      <td>-4.379</td>\n",
              "      <td>0</td>\n",
              "      <td>0.00%</td>\n",
              "    </tr>\n",
              "    <tr>\n",
              "      <td>S_cpd00141_ext</td>\n",
              "      <td>Ex_S_cpd00141_ext</td>\n",
              "      <td>-6.487</td>\n",
              "      <td>3</td>\n",
              "      <td>69.43%</td>\n",
              "    </tr>\n",
              "    <tr>\n",
              "      <td>S_cpd00204_ext</td>\n",
              "      <td>Ex_S_cpd00204_ext</td>\n",
              "      <td>-0.002186</td>\n",
              "      <td>1</td>\n",
              "      <td>0.01%</td>\n",
              "    </tr>\n",
              "    <tr>\n",
              "      <td>S_cpd00229_ext</td>\n",
              "      <td>Ex_S_cpd00229_ext</td>\n",
              "      <td>-0.008104</td>\n",
              "      <td>2</td>\n",
              "      <td>0.06%</td>\n",
              "    </tr>\n",
              "    <tr>\n",
              "      <td>S_cpd08636_ext</td>\n",
              "      <td>Ex_S_cpd08636_ext</td>\n",
              "      <td>-0.007902</td>\n",
              "      <td>5</td>\n",
              "      <td>0.14%</td>\n",
              "    </tr>\n",
              "    <tr>\n",
              "      <td>S_cpd15378_ext</td>\n",
              "      <td>Ex_S_cpd15378_ext</td>\n",
              "      <td>-0.002186</td>\n",
              "      <td>7</td>\n",
              "      <td>0.05%</td>\n",
              "    </tr>\n",
              "    <tr>\n",
              "      <td>S_cpd15380_ext</td>\n",
              "      <td>Ex_S_cpd15380_ext</td>\n",
              "      <td>-0.0052</td>\n",
              "      <td>5</td>\n",
              "      <td>0.09%</td>\n",
              "    </tr>\n",
              "    <tr>\n",
              "      <td>S_cpdnew28_ext</td>\n",
              "      <td>Ex_S_cpdnew28_ext</td>\n",
              "      <td>-0.0005863</td>\n",
              "      <td>4</td>\n",
              "      <td>0.01%</td>\n",
              "    </tr>\n",
              "  </tbody>\n",
              "</table>"
            ]
          },
          "metadata": {},
          "execution_count": 7
        }
      ]
    },
    {
      "cell_type": "code",
      "source": [
        "#check out c-flux in g-C /g-DW/h\n",
        "mmC = 12\n",
        "gCglu = 10*6*mmC\n",
        "gCprop = 6.487*3*mmC \n",
        "print(gCprop/gCglu)"
      ],
      "metadata": {
        "colab": {
          "base_uri": "https://localhost:8080/"
        },
        "id": "o5XzdKvKBrBm",
        "outputId": "c9900ec2-b6d4-45c5-d007-f530737d00fb"
      },
      "execution_count": 8,
      "outputs": [
        {
          "output_type": "stream",
          "name": "stdout",
          "text": [
            "0.32434999999999997\n"
          ]
        }
      ]
    },
    {
      "cell_type": "code",
      "source": [
        "# analyse the outputs do the biomass reaction and mass balances make sense\n",
        "model.metabolites.get_by_id('S_biomass_ext').summary()\n",
        "#df = model.summary()"
      ],
      "metadata": {
        "colab": {
          "base_uri": "https://localhost:8080/",
          "height": 261
        },
        "id": "sAlSuQrHo6Fo",
        "outputId": "b85ced9e-d8fe-415f-ed49-8ed47b1c7d13"
      },
      "execution_count": 9,
      "outputs": [
        {
          "output_type": "execute_result",
          "data": {
            "text/plain": [
              "<cobra.summary.metabolite_summary.MetaboliteSummary at 0x7f2c980cfa90>"
            ],
            "text/html": [
              "<h3>S_biomass_ext</h3><p></p><h4>Producing Reactions</h4><table border=\"1\" class=\"dataframe\">\n",
              "  <thead>\n",
              "    <tr style=\"text-align: right;\">\n",
              "      <th>Percent</th>\n",
              "      <th>Flux</th>\n",
              "      <th>Reaction</th>\n",
              "      <th>Definition</th>\n",
              "    </tr>\n",
              "  </thead>\n",
              "  <tbody>\n",
              "    <tr>\n",
              "      <td>100.00%</td>\n",
              "      <td>0.8562</td>\n",
              "      <td>biomass_c0</td>\n",
              "      <td>0.038 S_cpd11461_c0 + 0.434 S_cpd11463_c0 + 0.176 S_cpd11613_c0 + 0.03 S_cpdnew18_c0 + 0.032 S_cpdnew26_c0 + 0.2 S_cpdnew27_c0 --&gt; S_biomass_ext</td>\n",
              "    </tr>\n",
              "  </tbody>\n",
              "</table><h4>Consuming Reactions</h4><table border=\"1\" class=\"dataframe\">\n",
              "  <thead>\n",
              "    <tr style=\"text-align: right;\">\n",
              "      <th>Percent</th>\n",
              "      <th>Flux</th>\n",
              "      <th>Reaction</th>\n",
              "      <th>Definition</th>\n",
              "    </tr>\n",
              "  </thead>\n",
              "  <tbody>\n",
              "    <tr>\n",
              "      <td>100.00%</td>\n",
              "      <td>-0.8562</td>\n",
              "      <td>Ex_S_biomass_ext</td>\n",
              "      <td>S_biomass_ext --&gt;</td>\n",
              "    </tr>\n",
              "  </tbody>\n",
              "</table>"
            ]
          },
          "metadata": {},
          "execution_count": 9
        }
      ]
    },
    {
      "cell_type": "markdown",
      "source": [
        "# need to find carbon flux of the following metabolites:  \n",
        "S_cpd11461_c0  \n",
        "S_cpd11463_c0  \n",
        "S_cpd11613_c0  \n",
        "S_cpdnew18_c0  \n",
        "S_cpdnew26_c0  \n",
        "S_cpdnew27_c0 \n"
      ],
      "metadata": {
        "id": "BMQK27PdjxP7"
      }
    },
    {
      "cell_type": "code",
      "source": [
        "mets = ['S_cpd11461_c0', \n",
        "'S_cpd11463_c0' ,\n",
        "'S_cpd11613_c0' , \n",
        "'S_cpdnew18_c0' ,\n",
        "'S_cpdnew26_c0' ,\n",
        "'S_cpdnew27_c0']\n",
        "\n",
        "names = []\n",
        "for r in mets :\n",
        "  names.append(model.metabolites.get_by_id(r).name)\n",
        "\n",
        "print(names)\n"
      ],
      "metadata": {
        "colab": {
          "base_uri": "https://localhost:8080/"
        },
        "id": "QdsyeL5wjv8A",
        "outputId": "abf337ae-5000-4ab2-da09-d6bf41c386c2"
      },
      "execution_count": 10,
      "outputs": [
        {
          "output_type": "stream",
          "name": "stdout",
          "text": [
            "['DNA', 'Protein', 'RNA', 'Propionibacterium lipids', 'Small molecule pool', 'Propionibacterium cell wall']\n"
          ]
        }
      ]
    },
    {
      "cell_type": "markdown",
      "source": [
        "#DNA"
      ],
      "metadata": {
        "id": "ewg--8-eL6o5"
      }
    },
    {
      "cell_type": "code",
      "source": [
        "met = mets[1]\n",
        "model.metabolites.get_by_id(met).summary()"
      ],
      "metadata": {
        "id": "y6son8UBDVC6"
      },
      "execution_count": null,
      "outputs": []
    },
    {
      "cell_type": "markdown",
      "source": [
        "#Small molecule pool "
      ],
      "metadata": {
        "id": "JChOa9jXDUWV"
      }
    },
    {
      "cell_type": "code",
      "source": [
        "met = mets[4]\n",
        "model.metabolites.get_by_id(met).summary()\n"
      ],
      "metadata": {
        "colab": {
          "base_uri": "https://localhost:8080/",
          "height": 330
        },
        "id": "9oUSD2jCtNNP",
        "outputId": "85789768-4d12-449d-9e60-f570e0f04fcd"
      },
      "execution_count": 11,
      "outputs": [
        {
          "output_type": "execute_result",
          "data": {
            "text/plain": [
              "<cobra.summary.metabolite_summary.MetaboliteSummary at 0x7f2c98115910>"
            ],
            "text/html": [
              "<h3>S_cpdnew26_c0</h3><p></p><h4>Producing Reactions</h4><table border=\"1\" class=\"dataframe\">\n",
              "  <thead>\n",
              "    <tr style=\"text-align: right;\">\n",
              "      <th>Percent</th>\n",
              "      <th>Flux</th>\n",
              "      <th>Reaction</th>\n",
              "      <th>Definition</th>\n",
              "    </tr>\n",
              "  </thead>\n",
              "  <tbody>\n",
              "    <tr>\n",
              "      <td>100.00%</td>\n",
              "      <td>0.0274</td>\n",
              "      <td>rxnnew72_c0</td>\n",
              "      <td>0.051 S_cpd00003_c0 + 0.0509 S_cpd00004_c0 + 0.0455 S_cpd00005_c0 + 0.0455 S_cpd00006_c0 + 0.0442 S_cpd00010_c0 + 0.3868 S_cpd00013_c0 + 0.0431 S_cpd00015_c0 + 0.1372 S_cpd00016_c0 + 0.0846 S_cpd00017_c0 + 0.055 S_cpd00028_c0 + 0.0206 S_cpd00030_c0 + 0.1289 S_cpd00048_c0 + 0.0798 S_cpd00056_c0 + 0.0762 S_cpd00087_c0 + 0.1548 S_cpd00099_c0 + 0.1389 S_cpd00104_c0 + 0.0742 S_cpd00125_c0 + 0.0008 S_cpd00149_c0 + 0.0214 S_cpd00166_c0 + 0.0716 S_cpd00201_c0 + 5.8028 S_cpd00205_c0 + 0.0897 S_cpd00220_c0 + 0.2579 S_cpd00254_c0 + 0.0738 S_cpd00345_c0 + 0.0372 S_cpd00557_c0 + 0.1996 S_cpd10515_c0 + 0.2321 S_cpd10516_c0 + 0.0634 S_cpdnew23_c0 + 0.0317 S_cpdnew24_c0 + 0.0428 S_cpdnew25_c0 --&gt; S_cpdnew26_c0</td>\n",
              "    </tr>\n",
              "  </tbody>\n",
              "</table><h4>Consuming Reactions</h4><table border=\"1\" class=\"dataframe\">\n",
              "  <thead>\n",
              "    <tr style=\"text-align: right;\">\n",
              "      <th>Percent</th>\n",
              "      <th>Flux</th>\n",
              "      <th>Reaction</th>\n",
              "      <th>Definition</th>\n",
              "    </tr>\n",
              "  </thead>\n",
              "  <tbody>\n",
              "    <tr>\n",
              "      <td>100.00%</td>\n",
              "      <td>-0.0274</td>\n",
              "      <td>biomass_c0</td>\n",
              "      <td>0.038 S_cpd11461_c0 + 0.434 S_cpd11463_c0 + 0.176 S_cpd11613_c0 + 0.03 S_cpdnew18_c0 + 0.032 S_cpdnew26_c0 + 0.2 S_cpdnew27_c0 --&gt; S_biomass_ext</td>\n",
              "    </tr>\n",
              "  </tbody>\n",
              "</table>"
            ]
          },
          "metadata": {},
          "execution_count": 11
        }
      ]
    },
    {
      "cell_type": "code",
      "source": [
        "a = 0.032* 0.8562\n",
        "print(a) #this is the same as the showed flux up above = flux biomass reaction * stoichiometric coef"
      ],
      "metadata": {
        "id": "QXopnugQLFIP"
      },
      "execution_count": null,
      "outputs": []
    },
    {
      "cell_type": "code",
      "source": [
        "model.reactions.get_by_id('rxnnew72_c0')\n"
      ],
      "metadata": {
        "colab": {
          "base_uri": "https://localhost:8080/",
          "height": 253
        },
        "id": "X-Qh_ibrmDqp",
        "outputId": "977854e4-2654-4e7e-abdf-d785c88b81aa"
      },
      "execution_count": 13,
      "outputs": [
        {
          "output_type": "execute_result",
          "data": {
            "text/plain": [
              "<Reaction rxnnew72_c0 at 0x7ff7459d3550>"
            ],
            "text/html": [
              "\n",
              "        <table>\n",
              "            <tr>\n",
              "                <td><strong>Reaction identifier</strong></td><td>rxnnew72_c0</td>\n",
              "            </tr><tr>\n",
              "                <td><strong>Name</strong></td><td>Small molecule pool representation</td>\n",
              "            </tr><tr>\n",
              "                <td><strong>Memory address</strong></td>\n",
              "                <td>0x7ff7459d3550</td>\n",
              "            </tr><tr>\n",
              "                <td><strong>Stoichiometry</strong></td>\n",
              "                <td>\n",
              "                    <p style='text-align:right'>0.051 S_cpd00003_c0 + 0.0509 S_cpd00004_c0 + 0.0455 S_cpd00005_c0 + 0.0455 S_cpd00006_c0 + 0.0442 S_cpd00010_c0 + 0.3868 S_cpd00013_c0 + 0.0431 S_cpd00015_c0 + 0.1372 S_cpd00016_c0 + 0.0846...</p>\n",
              "                    <p style='text-align:right'>0.051 NAD + 0.0509 NADH + 0.0455 NADPH + 0.0455 NADP + 0.0442 CoA + 0.3868 NH3 + 0.0431 FAD + 0.1372 Pyridoxal phosphate + 0.0846 S-Adenosyl-L-methionine + 0.055 Heme + 0.0206 Mn2+ + 0.1289 Sulfate...</p>\n",
              "                </td>\n",
              "            </tr><tr>\n",
              "                <td><strong>GPR</strong></td><td>BIOMASS</td>\n",
              "            </tr><tr>\n",
              "                <td><strong>Lower bound</strong></td><td>0.0</td>\n",
              "            </tr><tr>\n",
              "                <td><strong>Upper bound</strong></td><td>1000.0</td>\n",
              "            </tr>\n",
              "        </table>\n",
              "        "
            ]
          },
          "metadata": {},
          "execution_count": 13
        }
      ]
    },
    {
      "cell_type": "code",
      "source": [
        "rct = model.reactions.get_by_id('rxnnew72_c0') # pool of molucules\n",
        "showFormula(rct)"
      ],
      "metadata": {
        "colab": {
          "base_uri": "https://localhost:8080/"
        },
        "id": "bPV_tOTAAQgR",
        "outputId": "ed3fb03f-dd15-41c4-9668-56e88d0a5dac"
      },
      "execution_count": 17,
      "outputs": [
        {
          "output_type": "stream",
          "name": "stdout",
          "text": [
            "reactants\n",
            "C21H26N7O14P2\n",
            "C21H27N7O14P2\n",
            "C21H27N7O17P3\n",
            "C21H26N7O17P3\n",
            "C21H33N7O16P3S\n",
            "H4N\n",
            "C27H31N9O15P2\n",
            "C8H9NO6P\n",
            "C15H23N6O5S\n",
            "C34H30FeN4O4\n",
            "Mn\n",
            "O4S\n",
            "C12H17N4O7P2S\n",
            "C19H21N7O6\n",
            "Cl\n",
            "C10H15N2O3S\n",
            "C20H21N7O6\n",
            "Co\n",
            "C72H101CoN18O17P\n",
            "C20H21N7O7\n",
            "K\n",
            "C17H20N4O6\n",
            "Mg\n",
            "C20H23N7O6\n",
            "C42H36FeN4O16\n",
            "Fe\n",
            "Fe\n",
            "2Fe2S is missing\n",
            "4Fe4S is missing\n",
            "Menaquinol-9(4H) is missing\n",
            "\n",
            "products\n",
            "missing\n"
          ]
        }
      ]
    },
    {
      "cell_type": "code",
      "source": [
        "# get the eqation to find carbon balance \n",
        "0.1712"
      ],
      "metadata": {
        "id": "s5ky0vIavUj0"
      },
      "execution_count": null,
      "outputs": []
    },
    {
      "cell_type": "markdown",
      "source": [
        "#lipids"
      ],
      "metadata": {
        "id": "xmwj25mUDysY"
      }
    },
    {
      "cell_type": "code",
      "source": [
        "met = mets[3]\n",
        "print(model.metabolites.get_by_id(met).name)\n",
        "model.metabolites.get_by_id(met).summary()\n",
        "\n"
      ],
      "metadata": {
        "colab": {
          "base_uri": "https://localhost:8080/",
          "height": 296
        },
        "id": "yRqmC5WdLK9U",
        "outputId": "3bad91fa-ad7d-4ce3-aaac-8740a48a19ed"
      },
      "execution_count": 14,
      "outputs": [
        {
          "output_type": "stream",
          "name": "stdout",
          "text": [
            "Propionibacterium lipids\n"
          ]
        },
        {
          "output_type": "execute_result",
          "data": {
            "text/plain": [
              "<cobra.summary.metabolite_summary.MetaboliteSummary at 0x7f2c9747af50>"
            ],
            "text/html": [
              "<h3>S_cpdnew18_c0</h3><p></p><h4>Producing Reactions</h4><table border=\"1\" class=\"dataframe\">\n",
              "  <thead>\n",
              "    <tr style=\"text-align: right;\">\n",
              "      <th>Percent</th>\n",
              "      <th>Flux</th>\n",
              "      <th>Reaction</th>\n",
              "      <th>Definition</th>\n",
              "    </tr>\n",
              "  </thead>\n",
              "  <tbody>\n",
              "    <tr>\n",
              "      <td>100.00%</td>\n",
              "      <td>0.02569</td>\n",
              "      <td>rxnnew62_c0</td>\n",
              "      <td>0.057 S_cpdnew11_c0 + 0.086 S_cpdnew12_c0 + 0.057 S_cpdnew13_c0 + 0.029 S_cpdnew14_c0 + 0.029 S_cpdnew15_c0 + 0.057 S_cpdnew16_c0 + 0.445 S_cpdnew17_c0 --&gt; S_cpdnew18_c0</td>\n",
              "    </tr>\n",
              "  </tbody>\n",
              "</table><h4>Consuming Reactions</h4><table border=\"1\" class=\"dataframe\">\n",
              "  <thead>\n",
              "    <tr style=\"text-align: right;\">\n",
              "      <th>Percent</th>\n",
              "      <th>Flux</th>\n",
              "      <th>Reaction</th>\n",
              "      <th>Definition</th>\n",
              "    </tr>\n",
              "  </thead>\n",
              "  <tbody>\n",
              "    <tr>\n",
              "      <td>100.00%</td>\n",
              "      <td>-0.02569</td>\n",
              "      <td>biomass_c0</td>\n",
              "      <td>0.038 S_cpd11461_c0 + 0.434 S_cpd11463_c0 + 0.176 S_cpd11613_c0 + 0.03 S_cpdnew18_c0 + 0.032 S_cpdnew26_c0 + 0.2 S_cpdnew27_c0 --&gt; S_biomass_ext</td>\n",
              "    </tr>\n",
              "  </tbody>\n",
              "</table>"
            ]
          },
          "metadata": {},
          "execution_count": 14
        }
      ]
    },
    {
      "cell_type": "code",
      "source": [
        "rct = model.reactions.get_by_id('rxnnew62_c0') # lipids\n",
        "showFormula(rct)"
      ],
      "metadata": {
        "colab": {
          "base_uri": "https://localhost:8080/"
        },
        "id": "-zVIJH8tEdcH",
        "outputId": "021cd346-9190-4bb4-8203-9c21ddb74034"
      },
      "execution_count": 16,
      "outputs": [
        {
          "output_type": "stream",
          "name": "stdout",
          "text": [
            "reactants\n",
            "Avg. Phosphatidylglycerol is missing\n",
            "Avg, Cardiolipin is missing\n",
            "Avg. Phosphatidylinositol is missing\n",
            "Avg. Lysophosphatidylinositol is missing\n",
            "Avg. Phosphatidylethanolamine is missing\n",
            "Avg. Acylphosphatidylglycerol is missing\n",
            "Avg. Diacylinositol mannoside is missing\n",
            "\n",
            "products\n",
            "missing\n"
          ]
        }
      ]
    },
    {
      "cell_type": "code",
      "source": [
        "model.metabolites.get_by_id('S_cpdnew11_c0').summary()"
      ],
      "metadata": {
        "colab": {
          "base_uri": "https://localhost:8080/",
          "height": 358
        },
        "id": "aWSOwBtiFJ7c",
        "outputId": "ef13b2e0-1a4b-4689-f3a1-7615b11c7207"
      },
      "execution_count": 19,
      "outputs": [
        {
          "output_type": "execute_result",
          "data": {
            "text/plain": [
              "<cobra.summary.metabolite_summary.MetaboliteSummary at 0x7f2c974d5590>"
            ],
            "text/html": [
              "<h3>S_cpdnew11_c0</h3><p></p><h4>Producing Reactions</h4><table border=\"1\" class=\"dataframe\">\n",
              "  <thead>\n",
              "    <tr style=\"text-align: right;\">\n",
              "      <th>Percent</th>\n",
              "      <th>Flux</th>\n",
              "      <th>Reaction</th>\n",
              "      <th>Definition</th>\n",
              "    </tr>\n",
              "  </thead>\n",
              "  <tbody>\n",
              "    <tr>\n",
              "      <td>100.00%</td>\n",
              "      <td>0.00881</td>\n",
              "      <td>rxnnew55_c0</td>\n",
              "      <td>S_cpd00001_c0 + 2.0 S_cpd00002_c0 + S_cpd00052_c0 + 2.0 S_cpd00080_c0 + 2.0 S_cpdnew10_c0 --&gt; S_cpd00009_c0 + 3.0 S_cpd00012_c0 + 2.0 S_cpd00018_c0 + S_cpd00046_c0 + 2.0 S_cpd11493_c0 + S_cpdnew11_c0</td>\n",
              "    </tr>\n",
              "  </tbody>\n",
              "</table><h4>Consuming Reactions</h4><table border=\"1\" class=\"dataframe\">\n",
              "  <thead>\n",
              "    <tr style=\"text-align: right;\">\n",
              "      <th>Percent</th>\n",
              "      <th>Flux</th>\n",
              "      <th>Reaction</th>\n",
              "      <th>Definition</th>\n",
              "    </tr>\n",
              "  </thead>\n",
              "  <tbody>\n",
              "    <tr>\n",
              "      <td>50.15%</td>\n",
              "      <td>-0.004418</td>\n",
              "      <td>rxnnew56_c0</td>\n",
              "      <td>2.0 S_cpdnew11_c0 --&gt; S_cpd00100_c0 + S_cpdnew12_c0</td>\n",
              "    </tr>\n",
              "    <tr>\n",
              "      <td>33.24%</td>\n",
              "      <td>-0.002928</td>\n",
              "      <td>rxnnew60_c0</td>\n",
              "      <td>S_cpd00001_c0 + S_cpd00002_c0 + S_cpd11493_c0 + 2.0 S_cpdnew11_c0 --&gt; S_cpd00012_c0 + S_cpd00018_c0 + S_cpd02090_c0 + S_cpdnew10_c0 + S_cpdnew16_c0</td>\n",
              "    </tr>\n",
              "    <tr>\n",
              "      <td>16.62%</td>\n",
              "      <td>-0.001464</td>\n",
              "      <td>rxnnew62_c0</td>\n",
              "      <td>0.057 S_cpdnew11_c0 + 0.086 S_cpdnew12_c0 + 0.057 S_cpdnew13_c0 + 0.029 S_cpdnew14_c0 + 0.029 S_cpdnew15_c0 + 0.057 S_cpdnew16_c0 + 0.445 S_cpdnew17_c0 --&gt; S_cpdnew18_c0</td>\n",
              "    </tr>\n",
              "  </tbody>\n",
              "</table>"
            ]
          },
          "metadata": {},
          "execution_count": 19
        }
      ]
    },
    {
      "cell_type": "markdown",
      "source": [
        "# Cell wall"
      ],
      "metadata": {
        "id": "IVViVOZhEP9D"
      }
    },
    {
      "cell_type": "code",
      "source": [
        "met = mets[-1]\n",
        "print(model.metabolites.get_by_id(met).name)\n",
        "model.metabolites.get_by_id(met).summary()"
      ],
      "metadata": {
        "colab": {
          "base_uri": "https://localhost:8080/",
          "height": 278
        },
        "id": "s9QtH5c6EVBK",
        "outputId": "748b2ff7-c4b4-4087-fbb7-c3a23149be64"
      },
      "execution_count": 15,
      "outputs": [
        {
          "output_type": "stream",
          "name": "stdout",
          "text": [
            "Propionibacterium cell wall\n"
          ]
        },
        {
          "output_type": "execute_result",
          "data": {
            "text/plain": [
              "<cobra.summary.metabolite_summary.MetaboliteSummary at 0x7f2c974de3d0>"
            ],
            "text/html": [
              "<h3>S_cpdnew27_c0</h3><p></p><h4>Producing Reactions</h4><table border=\"1\" class=\"dataframe\">\n",
              "  <thead>\n",
              "    <tr style=\"text-align: right;\">\n",
              "      <th>Percent</th>\n",
              "      <th>Flux</th>\n",
              "      <th>Reaction</th>\n",
              "      <th>Definition</th>\n",
              "    </tr>\n",
              "  </thead>\n",
              "  <tbody>\n",
              "    <tr>\n",
              "      <td>100.00%</td>\n",
              "      <td>0.1712</td>\n",
              "      <td>rxnnew67_c0</td>\n",
              "      <td>0.289 S_cpdnew20_c0 + 0.036 S_cpdnew21_c0 + 0.675 S_cpdnew22_c0 --&gt; S_cpdnew27_c0</td>\n",
              "    </tr>\n",
              "  </tbody>\n",
              "</table><h4>Consuming Reactions</h4><table border=\"1\" class=\"dataframe\">\n",
              "  <thead>\n",
              "    <tr style=\"text-align: right;\">\n",
              "      <th>Percent</th>\n",
              "      <th>Flux</th>\n",
              "      <th>Reaction</th>\n",
              "      <th>Definition</th>\n",
              "    </tr>\n",
              "  </thead>\n",
              "  <tbody>\n",
              "    <tr>\n",
              "      <td>100.00%</td>\n",
              "      <td>-0.1712</td>\n",
              "      <td>biomass_c0</td>\n",
              "      <td>0.038 S_cpd11461_c0 + 0.434 S_cpd11463_c0 + 0.176 S_cpd11613_c0 + 0.03 S_cpdnew18_c0 + 0.032 S_cpdnew26_c0 + 0.2 S_cpdnew27_c0 --&gt; S_biomass_ext</td>\n",
              "    </tr>\n",
              "  </tbody>\n",
              "</table>"
            ]
          },
          "metadata": {},
          "execution_count": 15
        }
      ]
    },
    {
      "cell_type": "code",
      "source": [
        "rct = model.reactions.get_by_id('rxnnew67_c0') # cellwall reactions\n",
        "showFormula(rct)"
      ],
      "metadata": {
        "colab": {
          "base_uri": "https://localhost:8080/"
        },
        "id": "WJ_f7JQAEtpi",
        "outputId": "e8abdfaf-c087-4815-b790-df6e6f328cc7"
      },
      "execution_count": 17,
      "outputs": [
        {
          "output_type": "stream",
          "name": "stdout",
          "text": [
            "reactants\n",
            "Polysaccharide is missing\n",
            "Lipomannan is missing\n",
            "Propionibacterium peptidoglycan is missing\n",
            "\n",
            "products\n",
            "missing\n"
          ]
        }
      ]
    },
    {
      "cell_type": "code",
      "source": [
        "# polyscharaides \n",
        "met = 'S_cpdnew20_c0'\n",
        "print(model.metabolites.get_by_id(met).name)\n",
        "model.metabolites.get_by_id(met).summary()\n"
      ],
      "metadata": {
        "colab": {
          "base_uri": "https://localhost:8080/",
          "height": 296
        },
        "id": "njDPHc5BH9zJ",
        "outputId": "369a2f39-8ea9-4dc5-9fdc-e30b9dc03592"
      },
      "execution_count": 22,
      "outputs": [
        {
          "output_type": "stream",
          "name": "stdout",
          "text": [
            "Polysaccharide\n"
          ]
        },
        {
          "output_type": "execute_result",
          "data": {
            "text/plain": [
              "<cobra.summary.metabolite_summary.MetaboliteSummary at 0x7f2c99033cd0>"
            ],
            "text/html": [
              "<h3>S_cpdnew20_c0</h3><p></p><h4>Producing Reactions</h4><table border=\"1\" class=\"dataframe\">\n",
              "  <thead>\n",
              "    <tr style=\"text-align: right;\">\n",
              "      <th>Percent</th>\n",
              "      <th>Flux</th>\n",
              "      <th>Reaction</th>\n",
              "      <th>Definition</th>\n",
              "    </tr>\n",
              "  </thead>\n",
              "  <tbody>\n",
              "    <tr>\n",
              "      <td>100.00%</td>\n",
              "      <td>0.04949</td>\n",
              "      <td>rxnnew64_c0</td>\n",
              "      <td>S_cpd00026_c0 + S_cpd00043_c0 + 0.3 S_cpd00083_c0 + S_cpd00175_c0 + 2.0 S_cpdnew19_c0 --&gt; 5.0 S_cpd00014_c0 + 0.3 S_cpd00031_c0 + 5.3 S_cpd00067_c0 + S_cpdnew20_c0</td>\n",
              "    </tr>\n",
              "  </tbody>\n",
              "</table><h4>Consuming Reactions</h4><table border=\"1\" class=\"dataframe\">\n",
              "  <thead>\n",
              "    <tr style=\"text-align: right;\">\n",
              "      <th>Percent</th>\n",
              "      <th>Flux</th>\n",
              "      <th>Reaction</th>\n",
              "      <th>Definition</th>\n",
              "    </tr>\n",
              "  </thead>\n",
              "  <tbody>\n",
              "    <tr>\n",
              "      <td>100.00%</td>\n",
              "      <td>-0.04949</td>\n",
              "      <td>rxnnew67_c0</td>\n",
              "      <td>0.289 S_cpdnew20_c0 + 0.036 S_cpdnew21_c0 + 0.675 S_cpdnew22_c0 --&gt; S_cpdnew27_c0</td>\n",
              "    </tr>\n",
              "  </tbody>\n",
              "</table>"
            ]
          },
          "metadata": {},
          "execution_count": 22
        }
      ]
    },
    {
      "cell_type": "code",
      "source": [
        "### Lipomannan \n",
        "met = 'S_cpdnew21_c0'\n",
        "print(model.metabolites.get_by_id(met).name)\n",
        "model.metabolites.get_by_id(met).summary()\n",
        "\n",
        "rct = model.reactions.get_by_id('rxnnew65_c0') # cellwall reactions\n",
        "showFormula(rct)"
      ],
      "metadata": {
        "colab": {
          "base_uri": "https://localhost:8080/"
        },
        "id": "YZsom45bMuJc",
        "outputId": "2afca97a-6286-4168-add6-08b63212e7e6"
      },
      "execution_count": 24,
      "outputs": [
        {
          "output_type": "stream",
          "name": "stdout",
          "text": [
            "Lipomannan\n",
            "reactants\n",
            "C16H23N5O16P2\n",
            "\n",
            "products\n",
            "C10H13N5O11P2\n",
            "H\n",
            "missing\n"
          ]
        }
      ]
    },
    {
      "cell_type": "code",
      "source": [
        "### peptidoglycan \n",
        "met = 'S_cpdnew22_c0'\n",
        "print(model.metabolites.get_by_id(met).name)\n",
        "model.metabolites.get_by_id(met).summary()\n",
        "\n",
        "rct = model.reactions.get_by_id('rxnnew66_c0') # cellwall reactions\n",
        "showFormula(rct)"
      ],
      "metadata": {
        "colab": {
          "base_uri": "https://localhost:8080/"
        },
        "id": "2EHRJo9jNwOS",
        "outputId": "4d95f3f5-77e6-4163-f992-85f73b25c65e"
      },
      "execution_count": 28,
      "outputs": [
        {
          "output_type": "stream",
          "name": "stdout",
          "text": [
            "Propionibacterium peptidoglycan\n",
            "reactants\n",
            "C10H13N5O13P3\n",
            "C2H5NO2\n",
            "C3H7NO2\n",
            "C17H25N3O17P2\n",
            "C5H8NO4\n",
            "C7H14N2O4\n",
            "C6H12N2O3\n",
            "C20H28N3O19P2\n",
            "\n",
            "products\n",
            "C10H13N5O10P2\n",
            "HO4P\n",
            "C3H7NO2\n",
            "missing\n"
          ]
        }
      ]
    }
  ]
}