{
  "nbformat": 4,
  "nbformat_minor": 0,
  "metadata": {
    "colab": {
      "provenance": [],
      "collapsed_sections": []
    },
    "kernelspec": {
      "name": "python3",
      "display_name": "Python 3"
    },
    "language_info": {
      "name": "python"
    }
  },
  "cells": [
    {
      "cell_type": "markdown",
      "source": [
        "##This file is to check out reactions of the model P. acidipropionicum \n",
        "model name: PAC_4875_model.xml\n",
        "\n",
        "workflow: \n",
        "\n",
        "1.   Go to MEMOTE and find list of unbalanced reactions (eg: https://memote.io/report/92feb776-c3cf-4fd1-a06a-9f8cbbbaeb45)\n",
        "2.   split list into reactions missing formulas and unbalanced reactions (i.e., with all formulas present in the reaction)\n",
        "3. loop over \"unbalanced reactions\" make program to find unbalanced element in reaction and fix \n",
        "4. go over reactions with missing formulas and try find them (idk if this part is essential)\n",
        "\n",
        "wat I still need to ask: 1) wtf is PRS or X after a formula, 2) can I leave unbalanced reactions due to miussing formulas alone... 3) is it acceptable to ignore is lacking reactions if 97% of all the reactions are ok? \n",
        "\n",
        "\n"
      ],
      "metadata": {
        "id": "c9gzVUmrDX3e"
      }
    },
    {
      "cell_type": "code",
      "source": [
        "!setup.py install\n",
        "!pip install cobra"
      ],
      "metadata": {
        "id": "sx3tPruLF6vl"
      },
      "execution_count": null,
      "outputs": []
    },
    {
      "cell_type": "code",
      "source": [
        "from google.colab import drive\n",
        "drive.mount('/content/drive')"
      ],
      "metadata": {
        "colab": {
          "base_uri": "https://localhost:8080/"
        },
        "id": "NuZcGkaNlIcg",
        "outputId": "798fc770-62f6-4e1c-f006-8bf4428abfab"
      },
      "execution_count": 7,
      "outputs": [
        {
          "output_type": "stream",
          "name": "stdout",
          "text": [
            "Drive already mounted at /content/drive; to attempt to forcibly remount, call drive.mount(\"/content/drive\", force_remount=True).\n"
          ]
        }
      ]
    },
    {
      "cell_type": "code",
      "source": [
        "# import modules \n",
        "import cobra.io\n",
        "import os\n",
        "from cobra.flux_analysis import flux_variability_analysis\n",
        "import matplotlib.pyplot as plt\n",
        "import numpy as np"
      ],
      "metadata": {
        "id": "1IHiZxUZEOGT"
      },
      "execution_count": 4,
      "outputs": []
    },
    {
      "cell_type": "markdown",
      "source": [
        "usefull functions "
      ],
      "metadata": {
        "id": "O3O9miL3G8J-"
      }
    },
    {
      "cell_type": "code",
      "source": [
        "def showFormula(rnx):\n",
        "  reactants = rnx.reactants\n",
        "  products = rnx.products\n",
        "\n",
        "  print('reactants')\n",
        "  for i in reactants: \n",
        "    if i.formula: \n",
        "      print(i.formula)\n",
        "    else: \n",
        "      print('missing')\n",
        "\n",
        "  print('')\n",
        "  print('products')\n",
        "  for i in products:\n",
        "    if i.formula: \n",
        "      print(i.formula)\n",
        "    else: \n",
        "      print('missing') \n",
        "\n",
        "def writeReactionInFormulas(rxn):\n",
        "  reactants = rxn.reactants\n",
        "  products = rxn.products\n",
        "  eq = ''\n",
        "  for i in reactants: \n",
        "    if i.formula: \n",
        "       eq += ' + {}'.format(i.formula)\n",
        "  eq += ' = '\n",
        "  for i in products:\n",
        "    if i.formula: \n",
        "      eq += ' + {}'.format(i.formula)\n",
        "  return eq "
      ],
      "metadata": {
        "id": "ndldtW6kZaoH"
      },
      "execution_count": 5,
      "outputs": []
    },
    {
      "cell_type": "markdown",
      "source": [
        "#Analyze model"
      ],
      "metadata": {
        "id": "KnnHdD2hZbHG"
      }
    },
    {
      "cell_type": "code",
      "source": [
        "model = cobra.io.read_sbml_model('/content/drive/MyDrive/Colab Notebooks/models/PAC_4875_model.xml') \n",
        "unbalancedRnx = [\"rxnnew81_c0\",\"rxnnew85_c0\",\"rxnnew52_c0\",\"rxnnew54_c0\",\"rxnnew55_c0\",\"rxnnew56_c0\",\"rxnnew57_c0\",\"rxnnew58_c0\",\"rxnnew59_c0\",\"rxnnew60_c0\",\"rxnnew61_c0\",\"rxnnew62_c0\",\"rxnnew103_c0\",\"rxnnew63_c0\",\"rxnnew104_c0\",\"rxnnew64_c0\",\"rxnnew65_c0\",\"rxnnew66_c0\",\"rxnnew67_c0\",\"rxnnew69_c0\",\"rxnnew70_c0\",\"rxnnew71_c0\",\"rxnnew72_c0\",\"rxnnew73_c0\",\"rxnnew74_c0\",\"rxnnew75_c0\",\"rxn06118_c0\",\"rxn06120_c0\",\"rxnnew04_c0\",\"rxnnew06_c0\",\"rxnnew09_c0\",\"rxn05890_c0\",\"rxnnew12_c0\",\"rxn06651_c0\",\"rxnnew48_c0\"]\n",
        "print('there are {} reactions which are unbalanced or have missing formulas'.format(len(unbalancedRnx)))       \n",
        "print('')\n",
        "\n",
        "#have a look at the model summary \n",
        "opt = model.optimize()\n",
        "model.summary()"
      ],
      "metadata": {
        "colab": {
          "base_uri": "https://localhost:8080/",
          "height": 1000
        },
        "id": "02efRDIIG89a",
        "outputId": "9db00549-b883-456c-bd3a-bff65b1295ab"
      },
      "execution_count": 10,
      "outputs": [
        {
          "output_type": "stream",
          "name": "stdout",
          "text": [
            "there are 35 reactions which are unbalanced or have missing formulas\n",
            "\n"
          ]
        },
        {
          "output_type": "execute_result",
          "data": {
            "text/plain": [
              "<cobra.summary.model_summary.ModelSummary at 0x7f5b33d565d0>"
            ],
            "text/html": [
              "<h3>Objective</h3><p>1.0 biomass_c0 = 0.8561859881163572</p><h4>Uptake</h4><table border=\"1\" class=\"dataframe\">\n",
              "  <thead>\n",
              "    <tr style=\"text-align: right;\">\n",
              "      <th>Metabolite</th>\n",
              "      <th>Reaction</th>\n",
              "      <th>Flux</th>\n",
              "      <th>C-Number</th>\n",
              "      <th>C-Flux</th>\n",
              "    </tr>\n",
              "  </thead>\n",
              "  <tbody>\n",
              "    <tr>\n",
              "      <td>S_cpd00009_ext</td>\n",
              "      <td>Ex_S_cpd00009_ext</td>\n",
              "      <td>1.138</td>\n",
              "      <td>0</td>\n",
              "      <td>0.00%</td>\n",
              "    </tr>\n",
              "    <tr>\n",
              "      <td>S_cpd00013_ext</td>\n",
              "      <td>Ex_S_cpd00013_ext</td>\n",
              "      <td>7.973</td>\n",
              "      <td>0</td>\n",
              "      <td>0.00%</td>\n",
              "    </tr>\n",
              "    <tr>\n",
              "      <td>S_cpd00027_ext</td>\n",
              "      <td>Ex_S_cpd00027_ext</td>\n",
              "      <td>10</td>\n",
              "      <td>6</td>\n",
              "      <td>99.92%</td>\n",
              "    </tr>\n",
              "    <tr>\n",
              "      <td>S_cpd00030_ext</td>\n",
              "      <td>Ex_S_cpd00030_ext</td>\n",
              "      <td>0.0005644</td>\n",
              "      <td>0</td>\n",
              "      <td>0.00%</td>\n",
              "    </tr>\n",
              "    <tr>\n",
              "      <td>S_cpd00048_ext</td>\n",
              "      <td>Ex_S_cpd00048_ext</td>\n",
              "      <td>0.003532</td>\n",
              "      <td>0</td>\n",
              "      <td>0.00%</td>\n",
              "    </tr>\n",
              "    <tr>\n",
              "      <td>S_cpd00099_ext</td>\n",
              "      <td>Ex_S_cpd00099_ext</td>\n",
              "      <td>0.004241</td>\n",
              "      <td>0</td>\n",
              "      <td>0.00%</td>\n",
              "    </tr>\n",
              "    <tr>\n",
              "      <td>S_cpd00104_ext</td>\n",
              "      <td>Ex_S_cpd00104_ext</td>\n",
              "      <td>0.003806</td>\n",
              "      <td>10</td>\n",
              "      <td>0.06%</td>\n",
              "    </tr>\n",
              "    <tr>\n",
              "      <td>S_cpd00149_ext</td>\n",
              "      <td>Ex_S_cpd00149_ext</td>\n",
              "      <td>0.0006082</td>\n",
              "      <td>0</td>\n",
              "      <td>0.00%</td>\n",
              "    </tr>\n",
              "    <tr>\n",
              "      <td>S_cpd00205_ext</td>\n",
              "      <td>Ex_S_cpd00205_ext</td>\n",
              "      <td>0.159</td>\n",
              "      <td>0</td>\n",
              "      <td>0.00%</td>\n",
              "    </tr>\n",
              "    <tr>\n",
              "      <td>S_cpd00239_ext</td>\n",
              "      <td>Ex_S_cpd00239_ext</td>\n",
              "      <td>0.1706</td>\n",
              "      <td>0</td>\n",
              "      <td>0.00%</td>\n",
              "    </tr>\n",
              "    <tr>\n",
              "      <td>S_cpd00254_ext</td>\n",
              "      <td>Ex_S_cpd00254_ext</td>\n",
              "      <td>0.007066</td>\n",
              "      <td>0</td>\n",
              "      <td>0.00%</td>\n",
              "    </tr>\n",
              "    <tr>\n",
              "      <td>S_cpd00644_ext</td>\n",
              "      <td>Ex_S_cpd00644_ext</td>\n",
              "      <td>0.001211</td>\n",
              "      <td>9</td>\n",
              "      <td>0.02%</td>\n",
              "    </tr>\n",
              "    <tr>\n",
              "      <td>S_cpd10516_ext</td>\n",
              "      <td>Ex_S_cpd10516_ext</td>\n",
              "      <td>0.0213</td>\n",
              "      <td>0</td>\n",
              "      <td>0.00%</td>\n",
              "    </tr>\n",
              "  </tbody>\n",
              "</table><h4>Secretion</h4><table border=\"1\" class=\"dataframe\">\n",
              "  <thead>\n",
              "    <tr style=\"text-align: right;\">\n",
              "      <th>Metabolite</th>\n",
              "      <th>Reaction</th>\n",
              "      <th>Flux</th>\n",
              "      <th>C-Number</th>\n",
              "      <th>C-Flux</th>\n",
              "    </tr>\n",
              "  </thead>\n",
              "  <tbody>\n",
              "    <tr>\n",
              "      <td>S_biomass_ext</td>\n",
              "      <td>Ex_S_biomass_ext</td>\n",
              "      <td>-0.8562</td>\n",
              "      <td>0</td>\n",
              "      <td>0.00%</td>\n",
              "    </tr>\n",
              "    <tr>\n",
              "      <td>S_cpd00001_ext</td>\n",
              "      <td>Ex_S_cpd00001_ext</td>\n",
              "      <td>-34.15</td>\n",
              "      <td>0</td>\n",
              "      <td>0.00%</td>\n",
              "    </tr>\n",
              "    <tr>\n",
              "      <td>S_cpd00011_ext</td>\n",
              "      <td>Ex_S_cpd00011_ext</td>\n",
              "      <td>-1.497</td>\n",
              "      <td>1</td>\n",
              "      <td>5.34%</td>\n",
              "    </tr>\n",
              "    <tr>\n",
              "      <td>S_cpd00029_ext</td>\n",
              "      <td>Ex_S_cpd00029_ext</td>\n",
              "      <td>-3.395</td>\n",
              "      <td>2</td>\n",
              "      <td>24.22%</td>\n",
              "    </tr>\n",
              "    <tr>\n",
              "      <td>S_cpd00047_ext</td>\n",
              "      <td>Ex_S_cpd00047_ext</td>\n",
              "      <td>-0.1816</td>\n",
              "      <td>1</td>\n",
              "      <td>0.65%</td>\n",
              "    </tr>\n",
              "    <tr>\n",
              "      <td>S_cpd00067_ext</td>\n",
              "      <td>Ex_S_cpd00067_ext</td>\n",
              "      <td>-4.379</td>\n",
              "      <td>0</td>\n",
              "      <td>0.00%</td>\n",
              "    </tr>\n",
              "    <tr>\n",
              "      <td>S_cpd00141_ext</td>\n",
              "      <td>Ex_S_cpd00141_ext</td>\n",
              "      <td>-6.487</td>\n",
              "      <td>3</td>\n",
              "      <td>69.43%</td>\n",
              "    </tr>\n",
              "    <tr>\n",
              "      <td>S_cpd00204_ext</td>\n",
              "      <td>Ex_S_cpd00204_ext</td>\n",
              "      <td>-0.002186</td>\n",
              "      <td>1</td>\n",
              "      <td>0.01%</td>\n",
              "    </tr>\n",
              "    <tr>\n",
              "      <td>S_cpd00229_ext</td>\n",
              "      <td>Ex_S_cpd00229_ext</td>\n",
              "      <td>-0.008104</td>\n",
              "      <td>2</td>\n",
              "      <td>0.06%</td>\n",
              "    </tr>\n",
              "    <tr>\n",
              "      <td>S_cpd08636_ext</td>\n",
              "      <td>Ex_S_cpd08636_ext</td>\n",
              "      <td>-0.007902</td>\n",
              "      <td>5</td>\n",
              "      <td>0.14%</td>\n",
              "    </tr>\n",
              "    <tr>\n",
              "      <td>S_cpd15378_ext</td>\n",
              "      <td>Ex_S_cpd15378_ext</td>\n",
              "      <td>-0.002186</td>\n",
              "      <td>7</td>\n",
              "      <td>0.05%</td>\n",
              "    </tr>\n",
              "    <tr>\n",
              "      <td>S_cpd15380_ext</td>\n",
              "      <td>Ex_S_cpd15380_ext</td>\n",
              "      <td>-0.0052</td>\n",
              "      <td>5</td>\n",
              "      <td>0.09%</td>\n",
              "    </tr>\n",
              "    <tr>\n",
              "      <td>S_cpdnew28_ext</td>\n",
              "      <td>Ex_S_cpdnew28_ext</td>\n",
              "      <td>-0.0005863</td>\n",
              "      <td>4</td>\n",
              "      <td>0.01%</td>\n",
              "    </tr>\n",
              "  </tbody>\n",
              "</table>"
            ]
          },
          "metadata": {},
          "execution_count": 10
        }
      ]
    },
    {
      "cell_type": "code",
      "source": [
        "#check out c-flux in g-C /g-DW/h\n",
        "mmC = 12\n",
        "gCglu = 10*6*mmC\n",
        "gCprop = 6.487*3*mmC \n",
        "print(gCprop/gCglu)"
      ],
      "metadata": {
        "colab": {
          "base_uri": "https://localhost:8080/"
        },
        "id": "o5XzdKvKBrBm",
        "outputId": "73b1702b-c89b-4031-8711-c5f65974b81c"
      },
      "execution_count": 36,
      "outputs": [
        {
          "output_type": "stream",
          "name": "stdout",
          "text": [
            "0.32434999999999997\n"
          ]
        }
      ]
    },
    {
      "cell_type": "code",
      "source": [
        "# analyse the outputs do the biomass reaction and mass balances make sense\n",
        "model.metabolites.get_by_id('S_biomass_ext').summary()\n",
        "#df = model.summary()"
      ],
      "metadata": {
        "colab": {
          "base_uri": "https://localhost:8080/",
          "height": 261
        },
        "id": "sAlSuQrHo6Fo",
        "outputId": "f6f39ebf-c35f-4667-adca-b02fc7201a8c"
      },
      "execution_count": 20,
      "outputs": [
        {
          "output_type": "execute_result",
          "data": {
            "text/plain": [
              "<cobra.summary.metabolite_summary.MetaboliteSummary at 0x7f5b3467e650>"
            ],
            "text/html": [
              "<h3>S_biomass_ext</h3><p></p><h4>Producing Reactions</h4><table border=\"1\" class=\"dataframe\">\n",
              "  <thead>\n",
              "    <tr style=\"text-align: right;\">\n",
              "      <th>Percent</th>\n",
              "      <th>Flux</th>\n",
              "      <th>Reaction</th>\n",
              "      <th>Definition</th>\n",
              "    </tr>\n",
              "  </thead>\n",
              "  <tbody>\n",
              "    <tr>\n",
              "      <td>100.00%</td>\n",
              "      <td>0.8562</td>\n",
              "      <td>biomass_c0</td>\n",
              "      <td>0.038 S_cpd11461_c0 + 0.434 S_cpd11463_c0 + 0.176 S_cpd11613_c0 + 0.03 S_cpdnew18_c0 + 0.032 S_cpdnew26_c0 + 0.2 S_cpdnew27_c0 --&gt; S_biomass_ext</td>\n",
              "    </tr>\n",
              "  </tbody>\n",
              "</table><h4>Consuming Reactions</h4><table border=\"1\" class=\"dataframe\">\n",
              "  <thead>\n",
              "    <tr style=\"text-align: right;\">\n",
              "      <th>Percent</th>\n",
              "      <th>Flux</th>\n",
              "      <th>Reaction</th>\n",
              "      <th>Definition</th>\n",
              "    </tr>\n",
              "  </thead>\n",
              "  <tbody>\n",
              "    <tr>\n",
              "      <td>100.00%</td>\n",
              "      <td>-0.8562</td>\n",
              "      <td>Ex_S_biomass_ext</td>\n",
              "      <td>S_biomass_ext --&gt;</td>\n",
              "    </tr>\n",
              "  </tbody>\n",
              "</table>"
            ]
          },
          "metadata": {},
          "execution_count": 20
        }
      ]
    },
    {
      "cell_type": "code",
      "source": [
        "model.metabolites.get_by_id('S_cpd00011_ext').summary()"
      ],
      "metadata": {
        "colab": {
          "base_uri": "https://localhost:8080/",
          "height": 284
        },
        "id": "9oUSD2jCtNNP",
        "outputId": "db9cf7bd-107b-4209-ea2d-85e2b886cdaf"
      },
      "execution_count": 28,
      "outputs": [
        {
          "output_type": "execute_result",
          "data": {
            "text/plain": [
              "<cobra.summary.metabolite_summary.MetaboliteSummary at 0x7f5b33dadc50>"
            ],
            "text/html": [
              "<h3>S_cpd00011_ext</h3><p>CO2</p><h4>Producing Reactions</h4><table border=\"1\" class=\"dataframe\">\n",
              "  <thead>\n",
              "    <tr style=\"text-align: right;\">\n",
              "      <th>Percent</th>\n",
              "      <th>Flux</th>\n",
              "      <th>Reaction</th>\n",
              "      <th>Definition</th>\n",
              "    </tr>\n",
              "  </thead>\n",
              "  <tbody>\n",
              "    <tr>\n",
              "      <td>100.00%</td>\n",
              "      <td>1.497</td>\n",
              "      <td>rxn05467_c0</td>\n",
              "      <td>S_cpd00011_ext &lt;=&gt; S_cpd00011_c0</td>\n",
              "    </tr>\n",
              "  </tbody>\n",
              "</table><h4>Consuming Reactions</h4><table border=\"1\" class=\"dataframe\">\n",
              "  <thead>\n",
              "    <tr style=\"text-align: right;\">\n",
              "      <th>Percent</th>\n",
              "      <th>Flux</th>\n",
              "      <th>Reaction</th>\n",
              "      <th>Definition</th>\n",
              "    </tr>\n",
              "  </thead>\n",
              "  <tbody>\n",
              "    <tr>\n",
              "      <td>100.00%</td>\n",
              "      <td>-1.497</td>\n",
              "      <td>Ex_S_cpd00011_ext</td>\n",
              "      <td>S_cpd00011_ext --&gt;</td>\n",
              "    </tr>\n",
              "  </tbody>\n",
              "</table>"
            ]
          },
          "metadata": {},
          "execution_count": 28
        }
      ]
    },
    {
      "cell_type": "code",
      "source": [
        "# look at an e.g of an unblanced reaction\n",
        "reactionSelection = unbalancedRnx[25]\n",
        "# prints the reation dataframe summary \n",
        "model.reactions.get_by_id(reactionSelection)"
      ],
      "metadata": {
        "id": "ukFCJysZo0OB"
      },
      "execution_count": null,
      "outputs": []
    },
    {
      "cell_type": "code",
      "source": [
        "# get formulas of above example\n",
        "rnx = model.reactions.get_by_id(reactionSelection)\n",
        "showFormula(rnx)"
      ],
      "metadata": {
        "id": "iz9mGaAARTVQ"
      },
      "execution_count": null,
      "outputs": []
    },
    {
      "cell_type": "code",
      "source": [
        "#make a list of all unbalanced metabolic reactions\n",
        "metabolic_rct = []\n",
        "for rct in model.reactions:\n",
        "    if rct.id in unbalancedRnx:\n",
        "        if rct.id[-1:] in 't':\n",
        "            continue\n",
        "        else: \n",
        "            metabolic_rct.append(rct)\n",
        "    else: continue\n",
        "len(metabolic_rct)    #needs to be 35"
      ],
      "metadata": {
        "id": "vh9Aad92VHo6",
        "colab": {
          "base_uri": "https://localhost:8080/"
        },
        "outputId": "5e0a669a-fdaa-4d24-8116-2f149615ecee"
      },
      "execution_count": 18,
      "outputs": [
        {
          "output_type": "execute_result",
          "data": {
            "text/plain": [
              "35"
            ]
          },
          "metadata": {},
          "execution_count": 18
        }
      ]
    },
    {
      "cell_type": "code",
      "source": [
        "# check how many reactions have missing formulas \n",
        "RnxWithMissingFormulas = []\n",
        "#wrongStoichiometryRnx = []\n",
        "for rnx in metabolic_rct:\n",
        "    for met in rnx.metabolites.keys():\n",
        "      if not met.formula: \n",
        "        RnxWithMissingFormulas.append(rnx)\n",
        "        break\n",
        "      else:continue \n",
        "        #wrongStoichiometryRnx.append(rnx)\n",
        "        #break\n",
        "\n",
        "wrongStoichiometryRnx = list(  set(metabolic_rct) - set(RnxWithMissingFormulas) )\n",
        "print(len(RnxWithMissingFormulas))\n",
        "print(len(wrongStoichiometryRnx) )\n",
        "print(len(RnxWithMissingFormulas) + len(wrongStoichiometryRnx)  )"
      ],
      "metadata": {
        "colab": {
          "base_uri": "https://localhost:8080/"
        },
        "id": "xZDPDOPXx1aC",
        "outputId": "e75fc8b0-1103-44e2-d831-546d9b4484e0"
      },
      "execution_count": 40,
      "outputs": [
        {
          "output_type": "stream",
          "name": "stdout",
          "text": [
            "18\n",
            "17\n",
            "35\n"
          ]
        }
      ]
    },
    {
      "cell_type": "markdown",
      "source": [
        "## We see 18 of the 35 reactions that are un balanced are due to missing formulas, how can we we resolve this? "
      ],
      "metadata": {
        "id": "_-Wd7dyZ2oFV"
      }
    },
    {
      "cell_type": "code",
      "source": [
        "rxn = wrongStoichiometryRnx[0]\n",
        "showFormula(rxn)\n",
        "eq = writeReactionInFormulas(wrongStoichiometryRnx[0]) # wtf why is this compleetly wrong\n",
        "print('')\n",
        "print(eq)\n",
        "print('')\n",
        "# print the summary of the reaction \n",
        "wrongStoichiometryRnx[0]"
      ],
      "metadata": {
        "colab": {
          "base_uri": "https://localhost:8080/",
          "height": 395
        },
        "id": "c490cWLRb4S4",
        "outputId": "d3b6a25e-0c82-486a-9f0b-5dc0efb53c67"
      },
      "execution_count": 63,
      "outputs": [
        {
          "output_type": "stream",
          "name": "stdout",
          "text": [
            "reactants\n",
            "O2\n",
            "C5H7O4\n",
            "\n",
            "products\n",
            "CO2\n",
            "H\n",
            "C4H6O2\n",
            "\n",
            " + O2 + C5H7O4 =  + CO2 + H + C4H6O2\n",
            "\n"
          ]
        },
        {
          "output_type": "execute_result",
          "data": {
            "text/plain": [
              "<Reaction rxnnew85_c0 at 0x7fb3c47fddd0>"
            ],
            "text/html": [
              "\n",
              "        <table>\n",
              "            <tr>\n",
              "                <td><strong>Reaction identifier</strong></td><td>rxnnew85_c0</td>\n",
              "            </tr><tr>\n",
              "                <td><strong>Name</strong></td><td>Spontaneous diacetyl formation</td>\n",
              "            </tr><tr>\n",
              "                <td><strong>Memory address</strong></td>\n",
              "                <td>0x7fb3c47fddd0</td>\n",
              "            </tr><tr>\n",
              "                <td><strong>Stoichiometry</strong></td>\n",
              "                <td>\n",
              "                    <p style='text-align:right'>S_cpd00007_c0 + S_cpd00668_c0 --> S_cpd00011_c0 + S_cpd00067_c0 + S_cpd00551_c0</p>\n",
              "                    <p style='text-align:right'>O2 + ALCTT --> CO2 + H+ + DTYL</p>\n",
              "                </td>\n",
              "            </tr><tr>\n",
              "                <td><strong>GPR</strong></td><td>SPONTANEOUS</td>\n",
              "            </tr><tr>\n",
              "                <td><strong>Lower bound</strong></td><td>0.0</td>\n",
              "            </tr><tr>\n",
              "                <td><strong>Upper bound</strong></td><td>1000.0</td>\n",
              "            </tr>\n",
              "        </table>\n",
              "        "
            ]
          },
          "metadata": {},
          "execution_count": 63
        }
      ]
    },
    {
      "cell_type": "code",
      "source": [
        "model.metabolites.get_by_id('S_cpd00551_c0') # diacetyl (C4H6O2)\n",
        "model.metabolites.get_by_id('S_cpd00668_c0')  # alfa-acetolactic acid (C5H7O4)"
      ],
      "metadata": {
        "colab": {
          "base_uri": "https://localhost:8080/",
          "height": 147
        },
        "id": "ivXHwBUWdTcE",
        "outputId": "804a31f9-9ab4-4844-eec2-2a2ae69fce1f"
      },
      "execution_count": 61,
      "outputs": [
        {
          "output_type": "execute_result",
          "data": {
            "text/plain": [
              "<Metabolite S_cpd00668_c0 at 0x7fb3c55f0f90>"
            ],
            "text/html": [
              "\n",
              "        <table>\n",
              "            <tr>\n",
              "                <td><strong>Metabolite identifier</strong></td><td>S_cpd00668_c0</td>\n",
              "            </tr><tr>\n",
              "                <td><strong>Name</strong></td><td>ALCTT</td>\n",
              "            </tr><tr>\n",
              "                <td><strong>Memory address</strong></td>\n",
              "                <td>0x7fb3c55f0f90</td>\n",
              "            </tr><tr>\n",
              "                <td><strong>Formula</strong></td><td>C5H7O4</td>\n",
              "            </tr><tr>\n",
              "                <td><strong>Compartment</strong></td><td>c</td>\n",
              "            </tr><tr>\n",
              "                <td><strong>In 5 reaction(s)</strong></td><td>\n",
              "                    rxnnew85_c0, rxn02187_c0, rxn02186_c0, rxn02185_c0, rxn02113_c0\n",
              "                    </td>\n",
              "            </tr>\n",
              "        </table>"
            ]
          },
          "metadata": {},
          "execution_count": 61
        }
      ]
    },
    {
      "cell_type": "markdown",
      "source": [
        "i think I'll just leave this reaction alone "
      ],
      "metadata": {
        "id": "um33MHR_yG3n"
      }
    },
    {
      "cell_type": "markdown",
      "source": [
        "next reaction"
      ],
      "metadata": {
        "id": "ExQLG2I3yOH1"
      }
    },
    {
      "cell_type": "code",
      "source": [
        "rxn = wrongStoichiometryRnx[1]\n",
        "showFormula(rxn)\n",
        "eq = writeReactionInFormulas(wrongStoichiometryRnx[1]) # wtf why is this compleetly wrong\n",
        "print('')\n",
        "print(eq)\n",
        "print('')\n",
        "# print the summary of the reaction \n",
        "wrongStoichiometryRnx[1]"
      ],
      "metadata": {
        "colab": {
          "base_uri": "https://localhost:8080/",
          "height": 395
        },
        "id": "nlCqqTT4dTMh",
        "outputId": "125a4169-84d0-4996-c2e3-fcd004507510"
      },
      "execution_count": 64,
      "outputs": [
        {
          "output_type": "stream",
          "name": "stdout",
          "text": [
            "reactants\n",
            "C10H13N5O13P3\n",
            "HO10P3\n",
            "\n",
            "products\n",
            "C10H13N5O10P2\n",
            "H\n",
            "HO13P4\n",
            "\n",
            " + C10H13N5O13P3 + HO10P3 =  + C10H13N5O10P2 + H + HO13P4\n",
            "\n"
          ]
        },
        {
          "output_type": "execute_result",
          "data": {
            "text/plain": [
              "<Reaction rxnnew04_c0 at 0x7fb3c4bb5fd0>"
            ],
            "text/html": [
              "\n",
              "        <table>\n",
              "            <tr>\n",
              "                <td><strong>Reaction identifier</strong></td><td>rxnnew04_c0</td>\n",
              "            </tr><tr>\n",
              "                <td><strong>Name</strong></td><td>ATP:polyphosphate phosphotransferase</td>\n",
              "            </tr><tr>\n",
              "                <td><strong>Memory address</strong></td>\n",
              "                <td>0x7fb3c4bb5fd0</td>\n",
              "            </tr><tr>\n",
              "                <td><strong>Stoichiometry</strong></td>\n",
              "                <td>\n",
              "                    <p style='text-align:right'>S_cpd00002_c0 + S_cpd00421_c0 <=> S_cpd00008_c0 + S_cpd00067_c0 + S_cpdnew01_c0</p>\n",
              "                    <p style='text-align:right'>ATP + Triphosphate <=> ADP + H+ + Polyphosphate</p>\n",
              "                </td>\n",
              "            </tr><tr>\n",
              "                <td><strong>GPR</strong></td><td>CDS.2695</td>\n",
              "            </tr><tr>\n",
              "                <td><strong>Lower bound</strong></td><td>-1000.0</td>\n",
              "            </tr><tr>\n",
              "                <td><strong>Upper bound</strong></td><td>1000.0</td>\n",
              "            </tr>\n",
              "        </table>\n",
              "        "
            ]
          },
          "metadata": {},
          "execution_count": 64
        }
      ]
    },
    {
      "cell_type": "markdown",
      "source": [
        "ATP:polyphosphate phosphotransferase  \n",
        "The reaction stoichiometry is correct but the forumals for ATP and ADP seem wrong should be C10H16N5O13P3 (ATP) and C10H15N5O10P2 (ADP)  \n",
        "=> will this change fuck up other reactions?? "
      ],
      "metadata": {
        "id": "Rb2SAF_J1-tu"
      }
    },
    {
      "cell_type": "code",
      "source": [
        "model.metabolites.get_by_id('S_cpd00002_c0') # ATP \n",
        "model.metabolites.get_by_id('S_cpd00008_c0')  # ADP"
      ],
      "metadata": {
        "colab": {
          "base_uri": "https://localhost:8080/",
          "height": 147
        },
        "id": "3EGgcdrW2uQu",
        "outputId": "4c087779-877d-47aa-f357-71da0eb1260b"
      },
      "execution_count": 66,
      "outputs": [
        {
          "output_type": "execute_result",
          "data": {
            "text/plain": [
              "<Metabolite S_cpd00008_c0 at 0x7fb3c589bb50>"
            ],
            "text/html": [
              "\n",
              "        <table>\n",
              "            <tr>\n",
              "                <td><strong>Metabolite identifier</strong></td><td>S_cpd00008_c0</td>\n",
              "            </tr><tr>\n",
              "                <td><strong>Name</strong></td><td>ADP</td>\n",
              "            </tr><tr>\n",
              "                <td><strong>Memory address</strong></td>\n",
              "                <td>0x7fb3c589bb50</td>\n",
              "            </tr><tr>\n",
              "                <td><strong>Formula</strong></td><td>C10H13N5O10P2</td>\n",
              "            </tr><tr>\n",
              "                <td><strong>Compartment</strong></td><td>c</td>\n",
              "            </tr><tr>\n",
              "                <td><strong>In 178 reaction(s)</strong></td><td>\n",
              "                    rxn01513_c0, rxn05192_c0, rxn03406_c0, rxn00119_c0, rxn05512_c0, rxn00172_c0, rxn05539_c0, rxn05535_c0, rxn00744_c0, rxn03147_c0, rxn01509_c0, rxn00689_c0, rxn10571_c0, rxn01607_c0, rxn01653_c0,...\n",
              "                    </td>\n",
              "            </tr>\n",
              "        </table>"
            ]
          },
          "metadata": {},
          "execution_count": 66
        }
      ]
    },
    {
      "cell_type": "markdown",
      "source": [
        "Yes, changing the formula for ATP or ADP will change the stoichiometry of 178 other reactions!!??"
      ],
      "metadata": {
        "id": "gT3_wBxD3bhc"
      }
    },
    {
      "cell_type": "code",
      "source": [
        "strR = 'rxn01653_c0' # rxn01513_c0\n",
        "rxn  = model.reactions.get_by_id(strR)\n",
        "print(rxn in metabolic_rct)\n",
        "showFormula(rxn)\n",
        "eq = writeReactionInFormulas(wrongStoichiometryRnx[1]) # wtf why is this compleetly wrong\n",
        "print('')\n",
        "print(eq)\n",
        "print('')\n",
        "# print the summary of the reaction \n",
        "model.reactions.get_by_id(strR)"
      ],
      "metadata": {
        "colab": {
          "base_uri": "https://localhost:8080/",
          "height": 412
        },
        "id": "xkAq5nv03FJe",
        "outputId": "5ae10cfc-66b9-4ce5-b80d-92acd2af1cd4"
      },
      "execution_count": 70,
      "outputs": [
        {
          "output_type": "stream",
          "name": "stdout",
          "text": [
            "False\n",
            "reactants\n",
            "C10H13N5O13P3\n",
            "C20H21N7O7\n",
            "\n",
            "products\n",
            "C10H13N5O10P2\n",
            "HO4P\n",
            "C20H20N7O6\n",
            "\n",
            " + C10H13N5O13P3 + HO10P3 =  + C10H13N5O10P2 + H + HO13P4\n",
            "\n"
          ]
        },
        {
          "output_type": "execute_result",
          "data": {
            "text/plain": [
              "<Reaction rxn01653_c0 at 0x7fb3c4d32210>"
            ],
            "text/html": [
              "\n",
              "        <table>\n",
              "            <tr>\n",
              "                <td><strong>Reaction identifier</strong></td><td>rxn01653_c0</td>\n",
              "            </tr><tr>\n",
              "                <td><strong>Name</strong></td><td>5-Formyltetrahydrofolate cyclo-ligase (ADP-forming) c0</td>\n",
              "            </tr><tr>\n",
              "                <td><strong>Memory address</strong></td>\n",
              "                <td>0x7fb3c4d32210</td>\n",
              "            </tr><tr>\n",
              "                <td><strong>Stoichiometry</strong></td>\n",
              "                <td>\n",
              "                    <p style='text-align:right'>S_cpd00002_c0 + S_cpd02197_c0 --> S_cpd00008_c0 + S_cpd00009_c0 + S_cpd00347_c0</p>\n",
              "                    <p style='text-align:right'>ATP + 5-Formyltetrahydrofolate --> ADP + Phosphate + 5-10-Methenyltetrahydrofolate</p>\n",
              "                </td>\n",
              "            </tr><tr>\n",
              "                <td><strong>GPR</strong></td><td>CDS.948</td>\n",
              "            </tr><tr>\n",
              "                <td><strong>Lower bound</strong></td><td>0.0</td>\n",
              "            </tr><tr>\n",
              "                <td><strong>Upper bound</strong></td><td>1000.0</td>\n",
              "            </tr>\n",
              "        </table>\n",
              "        "
            ]
          },
          "metadata": {},
          "execution_count": 70
        }
      ]
    },
    {
      "cell_type": "markdown",
      "source": [
        "# Check out which elements (C, N, O or P) are unbalanced "
      ],
      "metadata": {
        "id": "UaVLhwtVm9JT"
      }
    },
    {
      "cell_type": "code",
      "source": [
        "from cobra import Reaction\n",
        "#calc Number of each element in the metabolite in this reaction\n",
        "C_unbalanced =[]\n",
        "O_unbalanced =[]\n",
        "N_unbalanced =[]\n",
        "P_unbalanced =[]\n",
        "H_unbalanced = [] # added \n",
        "error_formula = []\n",
        "\n",
        "for rct in metabolic_rct:\n",
        "#make one dictionary that contains the information about the total elements involved in each metabolite of the whole reaction\n",
        "    rct_dict = {}\n",
        "    all_H = []\n",
        "    all_C = []\n",
        "    all_O = []\n",
        "    all_N = []\n",
        "    all_P = []\n",
        "    stoich = {}\n",
        "    for met in rct.metabolites.keys():\n",
        "        met_formula = met.elements\n",
        "        if not met.elements:\n",
        "            error_formula.append(met)\n",
        "        else:\n",
        "            try:\n",
        "                H = met_formula['H']\n",
        "            except KeyError:\n",
        "                H = 0\n",
        "            try:\n",
        "                C = met_formula['C']\n",
        "            except KeyError:\n",
        "                C = 0\n",
        "            try: \n",
        "                O = met_formula['O']\n",
        "            except KeyError:\n",
        "                O = 0\n",
        "            try: \n",
        "                N = met_formula['N']\n",
        "            except KeyError:\n",
        "                N = 0\n",
        "            try: \n",
        "                P = met_formula['P']\n",
        "            except KeyError:\n",
        "                P = 0\n",
        "        elements = {f\"H_{met.id}\":H,f\"C_{met.id}\":C, f\"O_{met.id}\":O,f\"N_{met.id}\":N,f\"P_{met.id}\":P}\n",
        "        rct_dict.update(elements)\n",
        "#make a dictionary that has the information about the met.id and stoichiometry\n",
        "        for met in rct.metabolites.keys():\n",
        "            stoichiometry = rct.metabolites.get(met)\n",
        "            stoich[met.id]=stoichiometry\n",
        "        #make a calculation for the final balance of hydrogen for example:\n",
        "    for key in rct_dict:\n",
        "        id_key = stoich[key[2:]]\n",
        "        el = key[:2]\n",
        "        if el in 'H_':\n",
        "            num_H = rct_dict.get(key)\n",
        "            totH_key = num_H * id_key\n",
        "            all_H.append(totH_key)\n",
        "        elif el in 'C_':\n",
        "            num_C = rct_dict.get(key)\n",
        "            totC_key = num_C * id_key\n",
        "            all_C.append(totC_key)\n",
        "        elif el in 'O_':\n",
        "            num_O = rct_dict.get(key)\n",
        "            totO_key = num_O * id_key\n",
        "            all_O.append(totO_key)\n",
        "        elif el in 'N_':\n",
        "            num_N = rct_dict.get(key) \n",
        "            totN_key = num_N * id_key\n",
        "            all_N.append(totN_key)\n",
        "        elif el in 'P_':\n",
        "            num_P = rct_dict.get(key)\n",
        "            totP_key = num_P * id_key\n",
        "            all_P.append(totP_key)\n",
        "        else: \n",
        "            continue\n",
        "#add the number of that element to the list, and sum all parts of the list. this sum should equal 0 or it is unbalanced\n",
        "    balance_H = sum(all_H) \n",
        "    balance_C = sum(all_C)\n",
        "    balance_O = sum(all_O)\n",
        "    balance_N = sum(all_N)\n",
        "    balance_P = sum(all_P)\n",
        "    if balance_H != 0 and balance_C == 0 and balance_O == 0:\n",
        "      H_unbalanced.append(rct)\n",
        "    # #Make a script to balance the reaction with a proton)\n",
        "    #     add_H = -sum(all_H) #i.e. the stoichiometry of the proton needed to get mass balance\n",
        "    #     proton = model.metabolites.h_c\n",
        "    #     rct.add_metabolites({proton:add_H})\n",
        "    if balance_C!= 0:\n",
        "        C_unbalanced.append(rct)\n",
        "    if balance_O != 0:\n",
        "        O_unbalanced.append(rct)\n",
        "    if balance_N != 0:\n",
        "        N_unbalanced.append(rct)\n",
        "    if balance_P != 0:\n",
        "        P_unbalanced.append(rct)\n",
        "   "
      ],
      "metadata": {
        "id": "FMZIvtjnTpxl"
      },
      "execution_count": 25,
      "outputs": []
    },
    {
      "cell_type": "code",
      "source": [
        "print('Number of Hydrogen unbalanced rcts:', len(H_unbalanced))\n",
        "print('Number of carbon unbalanced rcts:', len(C_unbalanced))\n",
        "print('Number of oxygen unbalanced rcts:', len(O_unbalanced))\n",
        "print('Number of nitrogen unbalanced rcts:', len(N_unbalanced))\n",
        "print('Number of phosphorous unbalanced rcts:', len(P_unbalanced))\n",
        "# print(rct_dict)\n",
        "# print(H_unbalanced)"
      ],
      "metadata": {
        "id": "0qGNwTwXUxSW",
        "colab": {
          "base_uri": "https://localhost:8080/"
        },
        "outputId": "77fc4584-e704-46cc-bbc0-1c2207e58715"
      },
      "execution_count": 26,
      "outputs": [
        {
          "output_type": "stream",
          "name": "stdout",
          "text": [
            "Number of Hydrogen unbalanced rcts: 11\n",
            "Number of carbon unbalanced rcts: 22\n",
            "Number of oxygen unbalanced rcts: 21\n",
            "Number of nitrogen unbalanced rcts: 19\n",
            "Number of phosphorous unbalanced rcts: 13\n"
          ]
        }
      ]
    },
    {
      "cell_type": "markdown",
      "source": [
        "##Lets first have a look at the reactions where the formulas are missing "
      ],
      "metadata": {
        "id": "cXKsr7GB39vN"
      }
    },
    {
      "cell_type": "code",
      "source": [
        "print('there are {} metabolites that do not a have a formula in {} reactions'.format(len(error_formula), len(RnxWithMissingFormulas) ))"
      ],
      "metadata": {
        "colab": {
          "base_uri": "https://localhost:8080/",
          "height": 165
        },
        "id": "dZXsErb74GUW",
        "outputId": "cc31e906-9742-4447-bff6-fc12b87f0467"
      },
      "execution_count": 27,
      "outputs": [
        {
          "output_type": "error",
          "ename": "NameError",
          "evalue": "ignored",
          "traceback": [
            "\u001b[0;31m---------------------------------------------------------------------------\u001b[0m",
            "\u001b[0;31mNameError\u001b[0m                                 Traceback (most recent call last)",
            "\u001b[0;32m<ipython-input-27-83e56209dbe2>\u001b[0m in \u001b[0;36m<module>\u001b[0;34m\u001b[0m\n\u001b[0;32m----> 1\u001b[0;31m \u001b[0mprint\u001b[0m\u001b[0;34m(\u001b[0m\u001b[0;34m'there are {} metabolites that do not a have a formula in {} reactions'\u001b[0m\u001b[0;34m.\u001b[0m\u001b[0mformat\u001b[0m\u001b[0;34m(\u001b[0m\u001b[0mlen\u001b[0m\u001b[0;34m(\u001b[0m\u001b[0merror_formula\u001b[0m\u001b[0;34m)\u001b[0m\u001b[0;34m,\u001b[0m \u001b[0mlen\u001b[0m\u001b[0;34m(\u001b[0m\u001b[0mRnxWithMissingFormulas\u001b[0m\u001b[0;34m)\u001b[0m \u001b[0;34m)\u001b[0m\u001b[0;34m)\u001b[0m\u001b[0;34m\u001b[0m\u001b[0;34m\u001b[0m\u001b[0m\n\u001b[0m",
            "\u001b[0;31mNameError\u001b[0m: name 'error_formula' is not defined"
          ]
        }
      ]
    },
    {
      "cell_type": "code",
      "source": [
        "#lets have a look at an example \n",
        "error_formula[4]"
      ],
      "metadata": {
        "colab": {
          "base_uri": "https://localhost:8080/",
          "height": 147
        },
        "id": "U5ugng9coOBh",
        "outputId": "dd46e6fa-d545-4975-8ac9-270e480da2b0"
      },
      "execution_count": 60,
      "outputs": [
        {
          "output_type": "execute_result",
          "data": {
            "text/plain": [
              "<Metabolite S_cpdnew10_c0 at 0x7fbd0059c410>"
            ],
            "text/html": [
              "\n",
              "        <table>\n",
              "            <tr>\n",
              "                <td><strong>Metabolite identifier</strong></td><td>S_cpdnew10_c0</td>\n",
              "            </tr><tr>\n",
              "                <td><strong>Name</strong></td><td>average fatty acyl-ACP</td>\n",
              "            </tr><tr>\n",
              "                <td><strong>Memory address</strong></td>\n",
              "                <td>0x7fbd0059c410</td>\n",
              "            </tr><tr>\n",
              "                <td><strong>Formula</strong></td><td></td>\n",
              "            </tr><tr>\n",
              "                <td><strong>Compartment</strong></td><td>c</td>\n",
              "            </tr><tr>\n",
              "                <td><strong>In 6 reaction(s)</strong></td><td>\n",
              "                    rxnnew58_c0, rxnnew55_c0, rxnnew54_c0, rxnnew60_c0, rxnnew59_c0, rxnnew57_c0\n",
              "                    </td>\n",
              "            </tr>\n",
              "        </table>"
            ]
          },
          "metadata": {},
          "execution_count": 60
        }
      ]
    },
    {
      "cell_type": "code",
      "source": [
        "#\tlet have a look at the reations involved with metabolite S_cpdnew10_c0 (average fatty acyl-ACP) which has no formula \n",
        "rnxMet = ['rxnnew58_c0', 'rxnnew55_c0', 'rxnnew54_c0', 'rxnnew60_c0', 'rxnnew59_c0', 'rxnnew57_c0']\n",
        "model.reactions.get_by_id(rnxMet[0])"
      ],
      "metadata": {
        "colab": {
          "base_uri": "https://localhost:8080/",
          "height": 204
        },
        "id": "iokEzdR1q5Iu",
        "outputId": "05af12e2-cb88-4d83-9f3d-59eca155ec1f"
      },
      "execution_count": 39,
      "outputs": [
        {
          "output_type": "execute_result",
          "data": {
            "text/plain": [
              "<Reaction rxnnew58_c0 at 0x7fbcff567d10>"
            ],
            "text/html": [
              "\n",
              "        <table>\n",
              "            <tr>\n",
              "                <td><strong>Reaction identifier</strong></td><td>rxnnew58_c0</td>\n",
              "            </tr><tr>\n",
              "                <td><strong>Name</strong></td><td>Lysophosphatidylinositol synthesis</td>\n",
              "            </tr><tr>\n",
              "                <td><strong>Memory address</strong></td>\n",
              "                <td>0x7fbcff567d10</td>\n",
              "            </tr><tr>\n",
              "                <td><strong>Stoichiometry</strong></td>\n",
              "                <td>\n",
              "                    <p style='text-align:right'>S_cpd00001_c0 + S_cpd00002_c0 + S_cpd00052_c0 + S_cpd00080_c0 + S_cpd00863_c0 + S_cpdnew10_c0 --> S_cpd00009_c0 + 2.0 S_cpd00012_c0 + S_cpd00018_c0 + S_cpd00046_c0 + S_cpd11493_c0 + S_cpdnew14_c0</p>\n",
              "                    <p style='text-align:right'>H2O + ATP + CTP + Glycerol-3-phosphate + beta-D-Glucose 6-phosphate + average fatty acyl-ACP --> Phosphate + 2.0 PPi + AMP + CMP + ACP + Avg. Lysophosphatidylinositol</p>\n",
              "                </td>\n",
              "            </tr><tr>\n",
              "                <td><strong>GPR</strong></td><td>CDS.1625 and CDS.2164</td>\n",
              "            </tr><tr>\n",
              "                <td><strong>Lower bound</strong></td><td>0.0</td>\n",
              "            </tr><tr>\n",
              "                <td><strong>Upper bound</strong></td><td>1000.0</td>\n",
              "            </tr>\n",
              "        </table>\n",
              "        "
            ]
          },
          "metadata": {},
          "execution_count": 39
        }
      ]
    },
    {
      "cell_type": "code",
      "source": [
        "showFormula(model.reactions.get_by_id(rnxMet[0]))"
      ],
      "metadata": {
        "colab": {
          "base_uri": "https://localhost:8080/"
        },
        "id": "iOLDW2gtrmAb",
        "outputId": "eebfd8d4-c3d1-494d-b995-83ea1114df40"
      },
      "execution_count": 48,
      "outputs": [
        {
          "output_type": "stream",
          "name": "stdout",
          "text": [
            "reactants\n",
            "H2O\n",
            "C10H13N5O13P3\n",
            "C9H13N3O14P3\n",
            "C3H8O6P\n",
            "C6H12O9P\n",
            "missing\n",
            "\n",
            "products\n",
            "HO4P\n",
            "H2O7P2\n",
            "C10H13N5O7P\n",
            "C9H13N3O8P\n",
            "C11H21N2O7PRS\n",
            "missing\n"
          ]
        }
      ]
    },
    {
      "cell_type": "markdown",
      "source": [
        "##let have a look at reaction where all elements (C, N, P, & O) are unbalanced "
      ],
      "metadata": {
        "id": "VAJVahBU4TOn"
      }
    },
    {
      "cell_type": "code",
      "source": [
        "#overlay = list(set(H_unbalanced) & set(C_unbalanced) & set(O_unbalanced) & set(N_unbalanced) & set(P_unbalanced))\n",
        "overlay = list(set(C_unbalanced) & set(O_unbalanced) & set(N_unbalanced) & set(P_unbalanced))\n",
        "print(len(overlay))"
      ],
      "metadata": {
        "colab": {
          "base_uri": "https://localhost:8080/"
        },
        "id": "JF0WDFWAdw48",
        "outputId": "69ba831c-dab6-462c-e50c-46e175dae23b"
      },
      "execution_count": 49,
      "outputs": [
        {
          "output_type": "stream",
          "name": "stdout",
          "text": [
            "12\n"
          ]
        }
      ]
    },
    {
      "cell_type": "markdown",
      "source": [
        "ok so there are 12 reactions where it all went wrong (C unbalanced O unbalanced N unbalanced P unbalanced ), lets have a look at one \n",
        "\n"
      ],
      "metadata": {
        "id": "4b8VS6Zzd6Zr"
      }
    },
    {
      "cell_type": "code",
      "source": [
        "nr = 9"
      ],
      "metadata": {
        "id": "cUJom12wlBz-"
      },
      "execution_count": 54,
      "outputs": []
    },
    {
      "cell_type": "code",
      "source": [
        "overlay[nr] "
      ],
      "metadata": {
        "colab": {
          "base_uri": "https://localhost:8080/",
          "height": 204
        },
        "id": "HS5xsXI7eEAb",
        "outputId": "5796ab8d-768e-4de0-f26d-846fdc38c6f2"
      },
      "execution_count": 55,
      "outputs": [
        {
          "output_type": "execute_result",
          "data": {
            "text/plain": [
              "<Reaction rxnnew61_c0 at 0x7fbcff567950>"
            ],
            "text/html": [
              "\n",
              "        <table>\n",
              "            <tr>\n",
              "                <td><strong>Reaction identifier</strong></td><td>rxnnew61_c0</td>\n",
              "            </tr><tr>\n",
              "                <td><strong>Name</strong></td><td>Diacylisonisotl mannoside synthesis</td>\n",
              "            </tr><tr>\n",
              "                <td><strong>Memory address</strong></td>\n",
              "                <td>0x7fbcff567950</td>\n",
              "            </tr><tr>\n",
              "                <td><strong>Stoichiometry</strong></td>\n",
              "                <td>\n",
              "                    <p style='text-align:right'>S_cpd00083_c0 + S_cpdnew14_c0 --> S_cpd00031_c0 + S_cpd00067_c0 + S_cpdnew17_c0</p>\n",
              "                    <p style='text-align:right'>GDP-mannose + Avg. Lysophosphatidylinositol --> GDP + H+ + Avg. Diacylinositol mannoside</p>\n",
              "                </td>\n",
              "            </tr><tr>\n",
              "                <td><strong>GPR</strong></td><td>Open_problem</td>\n",
              "            </tr><tr>\n",
              "                <td><strong>Lower bound</strong></td><td>0.0</td>\n",
              "            </tr><tr>\n",
              "                <td><strong>Upper bound</strong></td><td>1000.0</td>\n",
              "            </tr>\n",
              "        </table>\n",
              "        "
            ]
          },
          "metadata": {},
          "execution_count": 55
        }
      ]
    },
    {
      "cell_type": "code",
      "source": [
        "showFormula(overlay[nr])"
      ],
      "metadata": {
        "colab": {
          "base_uri": "https://localhost:8080/"
        },
        "id": "FquSDU-leT-4",
        "outputId": "d703bc9c-4690-40d5-c979-945bbe40dc96"
      },
      "execution_count": 56,
      "outputs": [
        {
          "output_type": "stream",
          "name": "stdout",
          "text": [
            "reactants\n",
            "C16H23N5O16P2\n",
            "missing\n",
            "\n",
            "products\n",
            "C10H13N5O11P2\n",
            "H\n",
            "missing\n"
          ]
        }
      ]
    },
    {
      "cell_type": "code",
      "source": [
        "model.metabolites.get_by_id('S_cpdnew19_c0')"
      ],
      "metadata": {
        "colab": {
          "base_uri": "https://localhost:8080/",
          "height": 147
        },
        "id": "rpF8v4gGs4Ns",
        "outputId": "345bf4c5-b627-4439-9b10-3887348e6bee"
      },
      "execution_count": 46,
      "outputs": [
        {
          "output_type": "execute_result",
          "data": {
            "text/plain": [
              "<Metabolite S_cpdnew19_c0 at 0x7fbd005292d0>"
            ],
            "text/html": [
              "\n",
              "        <table>\n",
              "            <tr>\n",
              "                <td><strong>Metabolite identifier</strong></td><td>S_cpdnew19_c0</td>\n",
              "            </tr><tr>\n",
              "                <td><strong>Name</strong></td><td>UDP-2,3-diacetamido-2,3-dideoxy-D-mannuronate</td>\n",
              "            </tr><tr>\n",
              "                <td><strong>Memory address</strong></td>\n",
              "                <td>0x7fbd005292d0</td>\n",
              "            </tr><tr>\n",
              "                <td><strong>Formula</strong></td><td></td>\n",
              "            </tr><tr>\n",
              "                <td><strong>Compartment</strong></td><td>c</td>\n",
              "            </tr><tr>\n",
              "                <td><strong>In 2 reaction(s)</strong></td><td>\n",
              "                    rxnnew64_c0, rxnnew63_c0\n",
              "                    </td>\n",
              "            </tr>\n",
              "        </table>"
            ]
          },
          "metadata": {},
          "execution_count": 46
        }
      ]
    },
    {
      "cell_type": "code",
      "source": [
        "# look for this met S_cpdnew10_c0\n",
        "# in these reactions = rxnnew55_c0, rxnnew58_c0, rxnnew54_c0, rxnnew59_c0, rxnnew57_c0, rxnnew60_c0\n",
        "model.reactions.get_by_id('rxnnew58_c0')\n",
        "showFormula(model.reactions.get_by_id('rxnnew58_c0'))\n",
        "#showFormula(model.reactions.get_by_id('rxnnew55_c0'))\n",
        "# rnxOfInterest = model.metabolites.get_by_id('S_cpdnew10_c0').reactions\n",
        "# rnxOfInterest[0]"
      ],
      "metadata": {
        "colab": {
          "base_uri": "https://localhost:8080/",
          "height": 204
        },
        "id": "TfR4cAigqRBE",
        "outputId": "7f2b0f95-fd72-4fb4-fca2-29e65e332be1"
      },
      "execution_count": 80,
      "outputs": [
        {
          "output_type": "execute_result",
          "data": {
            "text/plain": [
              "<Reaction rxnnew58_c0 at 0x7f7859c73e50>"
            ],
            "text/html": [
              "\n",
              "        <table>\n",
              "            <tr>\n",
              "                <td><strong>Reaction identifier</strong></td><td>rxnnew58_c0</td>\n",
              "            </tr><tr>\n",
              "                <td><strong>Name</strong></td><td>Lysophosphatidylinositol synthesis</td>\n",
              "            </tr><tr>\n",
              "                <td><strong>Memory address</strong></td>\n",
              "                <td>0x7f7859c73e50</td>\n",
              "            </tr><tr>\n",
              "                <td><strong>Stoichiometry</strong></td>\n",
              "                <td>\n",
              "                    <p style='text-align:right'>S_cpd00001_c0 + S_cpd00002_c0 + S_cpd00052_c0 + S_cpd00080_c0 + S_cpd00863_c0 + S_cpdnew10_c0 --> S_cpd00009_c0 + 2.0 S_cpd00012_c0 + S_cpd00018_c0 + S_cpd00046_c0 + S_cpd11493_c0 + S_cpdnew14_c0</p>\n",
              "                    <p style='text-align:right'>H2O + ATP + CTP + Glycerol-3-phosphate + beta-D-Glucose 6-phosphate + average fatty acyl-ACP --> Phosphate + 2.0 PPi + AMP + CMP + ACP + Avg. Lysophosphatidylinositol</p>\n",
              "                </td>\n",
              "            </tr><tr>\n",
              "                <td><strong>GPR</strong></td><td>CDS.1625 and CDS.2164</td>\n",
              "            </tr><tr>\n",
              "                <td><strong>Lower bound</strong></td><td>0.0</td>\n",
              "            </tr><tr>\n",
              "                <td><strong>Upper bound</strong></td><td>1000.0</td>\n",
              "            </tr>\n",
              "        </table>\n",
              "        "
            ]
          },
          "metadata": {},
          "execution_count": 80
        }
      ]
    },
    {
      "cell_type": "markdown",
      "source": [
        "## look at Hydrogen unblananced reactions "
      ],
      "metadata": {
        "id": "n-LwXBzzdxOL"
      }
    },
    {
      "cell_type": "code",
      "source": [
        "#rnx_h = H_unbalanced[0]\n",
        "H_unbalanced[0]"
      ],
      "metadata": {
        "colab": {
          "base_uri": "https://localhost:8080/",
          "height": 204
        },
        "id": "-jAEZaHBZA4I",
        "outputId": "fa385f25-48f6-4cef-dc3c-3c00ff59fd60"
      },
      "execution_count": 33,
      "outputs": [
        {
          "output_type": "execute_result",
          "data": {
            "text/plain": [
              "<Reaction rxn06118_c0 at 0x7f7859f96d50>"
            ],
            "text/html": [
              "\n",
              "        <table>\n",
              "            <tr>\n",
              "                <td><strong>Reaction identifier</strong></td><td>rxn06118_c0</td>\n",
              "            </tr><tr>\n",
              "                <td><strong>Name</strong></td><td>Polyphosphate:D-glucose 6-phosphotransferase</td>\n",
              "            </tr><tr>\n",
              "                <td><strong>Memory address</strong></td>\n",
              "                <td>0x7f7859f96d50</td>\n",
              "            </tr><tr>\n",
              "                <td><strong>Stoichiometry</strong></td>\n",
              "                <td>\n",
              "                    <p style='text-align:right'>S_cpd00027_c0 + S_cpd00067_c0 + S_cpdnew01_c0 <=> S_cpd00079_c0 + S_cpd00421_c0</p>\n",
              "                    <p style='text-align:right'>D-Glucose + H+ + Polyphosphate <=> D-glucose-6-phosphate + Triphosphate</p>\n",
              "                </td>\n",
              "            </tr><tr>\n",
              "                <td><strong>GPR</strong></td><td>CDS.653</td>\n",
              "            </tr><tr>\n",
              "                <td><strong>Lower bound</strong></td><td>-1000.0</td>\n",
              "            </tr><tr>\n",
              "                <td><strong>Upper bound</strong></td><td>1000.0</td>\n",
              "            </tr>\n",
              "        </table>\n",
              "        "
            ]
          },
          "metadata": {},
          "execution_count": 33
        }
      ]
    },
    {
      "cell_type": "code",
      "source": [
        "rnx_h = H_unbalanced[0]\n",
        "showFormula(rnx_h)"
      ],
      "metadata": {
        "colab": {
          "base_uri": "https://localhost:8080/"
        },
        "id": "k5sPnl78Z8CU",
        "outputId": "34f41bc0-28a8-4091-da75-b7533e5e7c63"
      },
      "execution_count": 39,
      "outputs": [
        {
          "output_type": "stream",
          "name": "stdout",
          "text": [
            "reactants\n",
            "C6H12O6\n",
            "H\n",
            "HO13P4\n",
            "\n",
            "products\n",
            "C6H12O9P\n",
            "HO10P3\n"
          ]
        }
      ]
    },
    {
      "cell_type": "code",
      "source": [],
      "metadata": {
        "colab": {
          "base_uri": "https://localhost:8080/"
        },
        "id": "JIi9e-g6dSJI",
        "outputId": "45ff4d22-7d51-47fd-c589-889348c44c15"
      },
      "execution_count": 41,
      "outputs": [
        {
          "output_type": "execute_result",
          "data": {
            "text/plain": [
              "12"
            ]
          },
          "metadata": {},
          "execution_count": 41
        }
      ]
    }
  ]
}