{
  "nbformat": 4,
  "nbformat_minor": 0,
  "metadata": {
    "colab": {
      "provenance": [],
      "collapsed_sections": []
    },
    "kernelspec": {
      "name": "python3",
      "display_name": "Python 3"
    },
    "language_info": {
      "name": "python"
    }
  },
  "cells": [
    {
      "cell_type": "markdown",
      "source": [
        "##This file is to check out the biomass formation reaction of the model P. acidipropionicum \n",
        "model name: PAC_4875_model.xml\n",
        "\n",
        "workflow: \n",
        "\n",
        "find reaction, see where all the carbon reactions are at \n"
      ],
      "metadata": {
        "id": "c9gzVUmrDX3e"
      }
    },
    {
      "cell_type": "code",
      "source": [
        "!setup.py install\n",
        "!pip install cobra"
      ],
      "metadata": {
        "id": "sx3tPruLF6vl",
        "colab": {
          "base_uri": "https://localhost:8080/"
        },
        "outputId": "b6112967-d88a-454a-d5b3-9ddfcdbd036a"
      },
      "execution_count": 1,
      "outputs": [
        {
          "output_type": "stream",
          "name": "stdout",
          "text": [
            "/bin/bash: setup.py: command not found\n",
            "Looking in indexes: https://pypi.org/simple, https://us-python.pkg.dev/colab-wheels/public/simple/\n",
            "Collecting cobra\n",
            "  Downloading cobra-0.25.0-py2.py3-none-any.whl (1.2 MB)\n",
            "\u001b[K     |████████████████████████████████| 1.2 MB 15.1 MB/s \n",
            "\u001b[?25hCollecting depinfo~=1.7\n",
            "  Downloading depinfo-1.7.0-py2.py3-none-any.whl (8.6 kB)\n",
            "Requirement already satisfied: future in /usr/local/lib/python3.7/dist-packages (from cobra) (0.16.0)\n",
            "Collecting swiglpk\n",
            "  Downloading swiglpk-5.0.5-cp37-cp37m-manylinux_2_17_x86_64.manylinux2014_x86_64.whl (2.3 MB)\n",
            "\u001b[K     |████████████████████████████████| 2.3 MB 41.6 MB/s \n",
            "\u001b[?25hRequirement already satisfied: pydantic~=1.6 in /usr/local/lib/python3.7/dist-packages (from cobra) (1.9.2)\n",
            "Collecting python-libsbml~=5.19\n",
            "  Downloading python_libsbml-5.19.7-cp37-cp37m-manylinux_2_17_x86_64.manylinux2014_x86_64.whl (6.8 MB)\n",
            "\u001b[K     |████████████████████████████████| 6.8 MB 53.1 MB/s \n",
            "\u001b[?25hRequirement already satisfied: importlib-resources in /usr/local/lib/python3.7/dist-packages (from cobra) (5.10.0)\n",
            "Requirement already satisfied: numpy~=1.13 in /usr/local/lib/python3.7/dist-packages (from cobra) (1.21.6)\n",
            "Requirement already satisfied: appdirs~=1.4 in /usr/local/lib/python3.7/dist-packages (from cobra) (1.4.4)\n",
            "Requirement already satisfied: pandas~=1.0 in /usr/local/lib/python3.7/dist-packages (from cobra) (1.3.5)\n",
            "Collecting optlang~=1.5\n",
            "  Downloading optlang-1.5.2-py2.py3-none-any.whl (147 kB)\n",
            "\u001b[K     |████████████████████████████████| 147 kB 90.0 MB/s \n",
            "\u001b[?25hCollecting ruamel.yaml~=0.16\n",
            "  Downloading ruamel.yaml-0.17.21-py3-none-any.whl (109 kB)\n",
            "\u001b[K     |████████████████████████████████| 109 kB 100.7 MB/s \n",
            "\u001b[?25hCollecting rich>=8.0\n",
            "  Downloading rich-12.6.0-py3-none-any.whl (237 kB)\n",
            "\u001b[K     |████████████████████████████████| 237 kB 83.2 MB/s \n",
            "\u001b[?25hCollecting httpx~=0.14\n",
            "  Downloading httpx-0.23.0-py3-none-any.whl (84 kB)\n",
            "\u001b[K     |████████████████████████████████| 84 kB 4.1 MB/s \n",
            "\u001b[?25hCollecting diskcache~=5.0\n",
            "  Downloading diskcache-5.4.0-py3-none-any.whl (44 kB)\n",
            "\u001b[K     |████████████████████████████████| 44 kB 3.4 MB/s \n",
            "\u001b[?25hRequirement already satisfied: importlib-metadata in /usr/local/lib/python3.7/dist-packages (from depinfo~=1.7->cobra) (4.13.0)\n",
            "Collecting sniffio\n",
            "  Downloading sniffio-1.3.0-py3-none-any.whl (10 kB)\n",
            "Collecting rfc3986[idna2008]<2,>=1.3\n",
            "  Downloading rfc3986-1.5.0-py2.py3-none-any.whl (31 kB)\n",
            "Requirement already satisfied: certifi in /usr/local/lib/python3.7/dist-packages (from httpx~=0.14->cobra) (2022.9.24)\n",
            "Collecting httpcore<0.16.0,>=0.15.0\n",
            "  Downloading httpcore-0.15.0-py3-none-any.whl (68 kB)\n",
            "\u001b[K     |████████████████████████████████| 68 kB 7.4 MB/s \n",
            "\u001b[?25hCollecting h11<0.13,>=0.11\n",
            "  Downloading h11-0.12.0-py3-none-any.whl (54 kB)\n",
            "\u001b[K     |████████████████████████████████| 54 kB 3.4 MB/s \n",
            "\u001b[?25hCollecting anyio==3.*\n",
            "  Downloading anyio-3.6.2-py3-none-any.whl (80 kB)\n",
            "\u001b[K     |████████████████████████████████| 80 kB 9.8 MB/s \n",
            "\u001b[?25hRequirement already satisfied: typing-extensions in /usr/local/lib/python3.7/dist-packages (from anyio==3.*->httpcore<0.16.0,>=0.15.0->httpx~=0.14->cobra) (4.1.1)\n",
            "Requirement already satisfied: idna>=2.8 in /usr/local/lib/python3.7/dist-packages (from anyio==3.*->httpcore<0.16.0,>=0.15.0->httpx~=0.14->cobra) (2.10)\n",
            "Requirement already satisfied: six>=1.9 in /usr/local/lib/python3.7/dist-packages (from optlang~=1.5->cobra) (1.15.0)\n",
            "Requirement already satisfied: sympy>=1.0 in /usr/local/lib/python3.7/dist-packages (from optlang~=1.5->cobra) (1.7.1)\n",
            "Requirement already satisfied: python-dateutil>=2.7.3 in /usr/local/lib/python3.7/dist-packages (from pandas~=1.0->cobra) (2.8.2)\n",
            "Requirement already satisfied: pytz>=2017.3 in /usr/local/lib/python3.7/dist-packages (from pandas~=1.0->cobra) (2022.4)\n",
            "Collecting commonmark<0.10.0,>=0.9.0\n",
            "  Downloading commonmark-0.9.1-py2.py3-none-any.whl (51 kB)\n",
            "\u001b[K     |████████████████████████████████| 51 kB 8.0 MB/s \n",
            "\u001b[?25hRequirement already satisfied: pygments<3.0.0,>=2.6.0 in /usr/local/lib/python3.7/dist-packages (from rich>=8.0->cobra) (2.6.1)\n",
            "Collecting ruamel.yaml.clib>=0.2.6\n",
            "  Downloading ruamel.yaml.clib-0.2.7-cp37-cp37m-manylinux_2_17_x86_64.manylinux2014_x86_64.manylinux_2_24_x86_64.whl (500 kB)\n",
            "\u001b[K     |████████████████████████████████| 500 kB 91.1 MB/s \n",
            "\u001b[?25hRequirement already satisfied: mpmath>=0.19 in /usr/local/lib/python3.7/dist-packages (from sympy>=1.0->optlang~=1.5->cobra) (1.2.1)\n",
            "Requirement already satisfied: zipp>=0.5 in /usr/local/lib/python3.7/dist-packages (from importlib-metadata->depinfo~=1.7->cobra) (3.9.0)\n",
            "Installing collected packages: sniffio, rfc3986, h11, anyio, swiglpk, ruamel.yaml.clib, httpcore, commonmark, ruamel.yaml, rich, python-libsbml, optlang, httpx, diskcache, depinfo, cobra\n",
            "Successfully installed anyio-3.6.2 cobra-0.25.0 commonmark-0.9.1 depinfo-1.7.0 diskcache-5.4.0 h11-0.12.0 httpcore-0.15.0 httpx-0.23.0 optlang-1.5.2 python-libsbml-5.19.7 rfc3986-1.5.0 rich-12.6.0 ruamel.yaml-0.17.21 ruamel.yaml.clib-0.2.7 sniffio-1.3.0 swiglpk-5.0.5\n"
          ]
        }
      ]
    },
    {
      "cell_type": "code",
      "source": [
        "from google.colab import drive\n",
        "drive.mount('/content/drive')"
      ],
      "metadata": {
        "colab": {
          "base_uri": "https://localhost:8080/"
        },
        "id": "NuZcGkaNlIcg",
        "outputId": "feac0fba-9acf-4056-bc25-430c3866a0be"
      },
      "execution_count": 5,
      "outputs": [
        {
          "output_type": "stream",
          "name": "stdout",
          "text": [
            "Mounted at /content/drive\n"
          ]
        }
      ]
    },
    {
      "cell_type": "code",
      "source": [
        "# import modules \n",
        "import cobra.io\n",
        "import os\n",
        "from cobra.flux_analysis import flux_variability_analysis\n",
        "import matplotlib.pyplot as plt\n",
        "import numpy as np"
      ],
      "metadata": {
        "id": "1IHiZxUZEOGT"
      },
      "execution_count": 2,
      "outputs": []
    },
    {
      "cell_type": "markdown",
      "source": [
        "usefull functions "
      ],
      "metadata": {
        "id": "O3O9miL3G8J-"
      }
    },
    {
      "cell_type": "code",
      "source": [
        "def showFormula(rnx):\n",
        "  reactants = rnx.reactants\n",
        "  products = rnx.products\n",
        "\n",
        "  print('reactants')\n",
        "  for i in reactants: \n",
        "    if i.formula: \n",
        "      print(i.formula)\n",
        "    else: \n",
        "      print('missing')\n",
        "\n",
        "  print('')\n",
        "  print('products')\n",
        "  for i in products:\n",
        "    if i.formula: \n",
        "      print(i.formula)\n",
        "    else: \n",
        "      print('missing') \n",
        "\n",
        "def writeReactionInFormulas(rxn):\n",
        "  reactants = rxn.reactants\n",
        "  products = rxn.products\n",
        "  eq = ''\n",
        "  for i in reactants: \n",
        "    if i.formula: \n",
        "       eq += ' + {}'.format(i.formula)\n",
        "  eq += ' = '\n",
        "  for i in products:\n",
        "    if i.formula: \n",
        "      eq += ' + {}'.format(i.formula)\n",
        "  return eq "
      ],
      "metadata": {
        "id": "ndldtW6kZaoH"
      },
      "execution_count": 3,
      "outputs": []
    },
    {
      "cell_type": "markdown",
      "source": [
        "#Analyze model"
      ],
      "metadata": {
        "id": "KnnHdD2hZbHG"
      }
    },
    {
      "cell_type": "code",
      "source": [
        "model = cobra.io.read_sbml_model('/content/drive/MyDrive/Colab Notebooks/models/PAC_4875_model.xml') \n",
        "#have a look at the model summary \n",
        "opt = model.optimize()\n",
        "model.summary()"
      ],
      "metadata": {
        "colab": {
          "base_uri": "https://localhost:8080/",
          "height": 1000
        },
        "id": "02efRDIIG89a",
        "outputId": "53a838eb-84c3-4eb1-cb45-915af8febea2"
      },
      "execution_count": 6,
      "outputs": [
        {
          "output_type": "execute_result",
          "data": {
            "text/plain": [
              "<cobra.summary.model_summary.ModelSummary at 0x7f5154447d10>"
            ],
            "text/html": [
              "<h3>Objective</h3><p>1.0 biomass_c0 = 0.8561859881163572</p><h4>Uptake</h4><table border=\"1\" class=\"dataframe\">\n",
              "  <thead>\n",
              "    <tr style=\"text-align: right;\">\n",
              "      <th>Metabolite</th>\n",
              "      <th>Reaction</th>\n",
              "      <th>Flux</th>\n",
              "      <th>C-Number</th>\n",
              "      <th>C-Flux</th>\n",
              "    </tr>\n",
              "  </thead>\n",
              "  <tbody>\n",
              "    <tr>\n",
              "      <td>S_cpd00009_ext</td>\n",
              "      <td>Ex_S_cpd00009_ext</td>\n",
              "      <td>1.138</td>\n",
              "      <td>0</td>\n",
              "      <td>0.00%</td>\n",
              "    </tr>\n",
              "    <tr>\n",
              "      <td>S_cpd00013_ext</td>\n",
              "      <td>Ex_S_cpd00013_ext</td>\n",
              "      <td>7.973</td>\n",
              "      <td>0</td>\n",
              "      <td>0.00%</td>\n",
              "    </tr>\n",
              "    <tr>\n",
              "      <td>S_cpd00027_ext</td>\n",
              "      <td>Ex_S_cpd00027_ext</td>\n",
              "      <td>10</td>\n",
              "      <td>6</td>\n",
              "      <td>99.92%</td>\n",
              "    </tr>\n",
              "    <tr>\n",
              "      <td>S_cpd00030_ext</td>\n",
              "      <td>Ex_S_cpd00030_ext</td>\n",
              "      <td>0.0005644</td>\n",
              "      <td>0</td>\n",
              "      <td>0.00%</td>\n",
              "    </tr>\n",
              "    <tr>\n",
              "      <td>S_cpd00048_ext</td>\n",
              "      <td>Ex_S_cpd00048_ext</td>\n",
              "      <td>0.003532</td>\n",
              "      <td>0</td>\n",
              "      <td>0.00%</td>\n",
              "    </tr>\n",
              "    <tr>\n",
              "      <td>S_cpd00099_ext</td>\n",
              "      <td>Ex_S_cpd00099_ext</td>\n",
              "      <td>0.004241</td>\n",
              "      <td>0</td>\n",
              "      <td>0.00%</td>\n",
              "    </tr>\n",
              "    <tr>\n",
              "      <td>S_cpd00104_ext</td>\n",
              "      <td>Ex_S_cpd00104_ext</td>\n",
              "      <td>0.003806</td>\n",
              "      <td>10</td>\n",
              "      <td>0.06%</td>\n",
              "    </tr>\n",
              "    <tr>\n",
              "      <td>S_cpd00149_ext</td>\n",
              "      <td>Ex_S_cpd00149_ext</td>\n",
              "      <td>0.0006082</td>\n",
              "      <td>0</td>\n",
              "      <td>0.00%</td>\n",
              "    </tr>\n",
              "    <tr>\n",
              "      <td>S_cpd00205_ext</td>\n",
              "      <td>Ex_S_cpd00205_ext</td>\n",
              "      <td>0.159</td>\n",
              "      <td>0</td>\n",
              "      <td>0.00%</td>\n",
              "    </tr>\n",
              "    <tr>\n",
              "      <td>S_cpd00239_ext</td>\n",
              "      <td>Ex_S_cpd00239_ext</td>\n",
              "      <td>0.1706</td>\n",
              "      <td>0</td>\n",
              "      <td>0.00%</td>\n",
              "    </tr>\n",
              "    <tr>\n",
              "      <td>S_cpd00254_ext</td>\n",
              "      <td>Ex_S_cpd00254_ext</td>\n",
              "      <td>0.007066</td>\n",
              "      <td>0</td>\n",
              "      <td>0.00%</td>\n",
              "    </tr>\n",
              "    <tr>\n",
              "      <td>S_cpd00644_ext</td>\n",
              "      <td>Ex_S_cpd00644_ext</td>\n",
              "      <td>0.001211</td>\n",
              "      <td>9</td>\n",
              "      <td>0.02%</td>\n",
              "    </tr>\n",
              "    <tr>\n",
              "      <td>S_cpd10516_ext</td>\n",
              "      <td>Ex_S_cpd10516_ext</td>\n",
              "      <td>0.0213</td>\n",
              "      <td>0</td>\n",
              "      <td>0.00%</td>\n",
              "    </tr>\n",
              "  </tbody>\n",
              "</table><h4>Secretion</h4><table border=\"1\" class=\"dataframe\">\n",
              "  <thead>\n",
              "    <tr style=\"text-align: right;\">\n",
              "      <th>Metabolite</th>\n",
              "      <th>Reaction</th>\n",
              "      <th>Flux</th>\n",
              "      <th>C-Number</th>\n",
              "      <th>C-Flux</th>\n",
              "    </tr>\n",
              "  </thead>\n",
              "  <tbody>\n",
              "    <tr>\n",
              "      <td>S_biomass_ext</td>\n",
              "      <td>Ex_S_biomass_ext</td>\n",
              "      <td>-0.8562</td>\n",
              "      <td>0</td>\n",
              "      <td>0.00%</td>\n",
              "    </tr>\n",
              "    <tr>\n",
              "      <td>S_cpd00001_ext</td>\n",
              "      <td>Ex_S_cpd00001_ext</td>\n",
              "      <td>-34.15</td>\n",
              "      <td>0</td>\n",
              "      <td>0.00%</td>\n",
              "    </tr>\n",
              "    <tr>\n",
              "      <td>S_cpd00011_ext</td>\n",
              "      <td>Ex_S_cpd00011_ext</td>\n",
              "      <td>-1.497</td>\n",
              "      <td>1</td>\n",
              "      <td>5.34%</td>\n",
              "    </tr>\n",
              "    <tr>\n",
              "      <td>S_cpd00029_ext</td>\n",
              "      <td>Ex_S_cpd00029_ext</td>\n",
              "      <td>-3.395</td>\n",
              "      <td>2</td>\n",
              "      <td>24.22%</td>\n",
              "    </tr>\n",
              "    <tr>\n",
              "      <td>S_cpd00047_ext</td>\n",
              "      <td>Ex_S_cpd00047_ext</td>\n",
              "      <td>-0.1816</td>\n",
              "      <td>1</td>\n",
              "      <td>0.65%</td>\n",
              "    </tr>\n",
              "    <tr>\n",
              "      <td>S_cpd00067_ext</td>\n",
              "      <td>Ex_S_cpd00067_ext</td>\n",
              "      <td>-4.379</td>\n",
              "      <td>0</td>\n",
              "      <td>0.00%</td>\n",
              "    </tr>\n",
              "    <tr>\n",
              "      <td>S_cpd00141_ext</td>\n",
              "      <td>Ex_S_cpd00141_ext</td>\n",
              "      <td>-6.487</td>\n",
              "      <td>3</td>\n",
              "      <td>69.43%</td>\n",
              "    </tr>\n",
              "    <tr>\n",
              "      <td>S_cpd00204_ext</td>\n",
              "      <td>Ex_S_cpd00204_ext</td>\n",
              "      <td>-0.002186</td>\n",
              "      <td>1</td>\n",
              "      <td>0.01%</td>\n",
              "    </tr>\n",
              "    <tr>\n",
              "      <td>S_cpd00229_ext</td>\n",
              "      <td>Ex_S_cpd00229_ext</td>\n",
              "      <td>-0.008104</td>\n",
              "      <td>2</td>\n",
              "      <td>0.06%</td>\n",
              "    </tr>\n",
              "    <tr>\n",
              "      <td>S_cpd08636_ext</td>\n",
              "      <td>Ex_S_cpd08636_ext</td>\n",
              "      <td>-0.007902</td>\n",
              "      <td>5</td>\n",
              "      <td>0.14%</td>\n",
              "    </tr>\n",
              "    <tr>\n",
              "      <td>S_cpd15378_ext</td>\n",
              "      <td>Ex_S_cpd15378_ext</td>\n",
              "      <td>-0.002186</td>\n",
              "      <td>7</td>\n",
              "      <td>0.05%</td>\n",
              "    </tr>\n",
              "    <tr>\n",
              "      <td>S_cpd15380_ext</td>\n",
              "      <td>Ex_S_cpd15380_ext</td>\n",
              "      <td>-0.0052</td>\n",
              "      <td>5</td>\n",
              "      <td>0.09%</td>\n",
              "    </tr>\n",
              "    <tr>\n",
              "      <td>S_cpdnew28_ext</td>\n",
              "      <td>Ex_S_cpdnew28_ext</td>\n",
              "      <td>-0.0005863</td>\n",
              "      <td>4</td>\n",
              "      <td>0.01%</td>\n",
              "    </tr>\n",
              "  </tbody>\n",
              "</table>"
            ]
          },
          "metadata": {},
          "execution_count": 6
        }
      ]
    },
    {
      "cell_type": "code",
      "source": [
        "#check out c-flux in g-C /g-DW/h\n",
        "mmC = 12\n",
        "gCglu = 10*6*mmC\n",
        "gCprop = 6.487*3*mmC \n",
        "print(gCprop/gCglu)"
      ],
      "metadata": {
        "colab": {
          "base_uri": "https://localhost:8080/"
        },
        "id": "o5XzdKvKBrBm",
        "outputId": "73b1702b-c89b-4031-8711-c5f65974b81c"
      },
      "execution_count": null,
      "outputs": [
        {
          "output_type": "stream",
          "name": "stdout",
          "text": [
            "0.32434999999999997\n"
          ]
        }
      ]
    },
    {
      "cell_type": "code",
      "source": [
        "# analyse the outputs do the biomass reaction and mass balances make sense\n",
        "model.metabolites.get_by_id('S_biomass_ext').summary()\n",
        "#df = model.summary()"
      ],
      "metadata": {
        "colab": {
          "base_uri": "https://localhost:8080/",
          "height": 261
        },
        "id": "sAlSuQrHo6Fo",
        "outputId": "f6f39ebf-c35f-4667-adca-b02fc7201a8c"
      },
      "execution_count": null,
      "outputs": [
        {
          "output_type": "execute_result",
          "data": {
            "text/plain": [
              "<cobra.summary.metabolite_summary.MetaboliteSummary at 0x7f5b3467e650>"
            ],
            "text/html": [
              "<h3>S_biomass_ext</h3><p></p><h4>Producing Reactions</h4><table border=\"1\" class=\"dataframe\">\n",
              "  <thead>\n",
              "    <tr style=\"text-align: right;\">\n",
              "      <th>Percent</th>\n",
              "      <th>Flux</th>\n",
              "      <th>Reaction</th>\n",
              "      <th>Definition</th>\n",
              "    </tr>\n",
              "  </thead>\n",
              "  <tbody>\n",
              "    <tr>\n",
              "      <td>100.00%</td>\n",
              "      <td>0.8562</td>\n",
              "      <td>biomass_c0</td>\n",
              "      <td>0.038 S_cpd11461_c0 + 0.434 S_cpd11463_c0 + 0.176 S_cpd11613_c0 + 0.03 S_cpdnew18_c0 + 0.032 S_cpdnew26_c0 + 0.2 S_cpdnew27_c0 --&gt; S_biomass_ext</td>\n",
              "    </tr>\n",
              "  </tbody>\n",
              "</table><h4>Consuming Reactions</h4><table border=\"1\" class=\"dataframe\">\n",
              "  <thead>\n",
              "    <tr style=\"text-align: right;\">\n",
              "      <th>Percent</th>\n",
              "      <th>Flux</th>\n",
              "      <th>Reaction</th>\n",
              "      <th>Definition</th>\n",
              "    </tr>\n",
              "  </thead>\n",
              "  <tbody>\n",
              "    <tr>\n",
              "      <td>100.00%</td>\n",
              "      <td>-0.8562</td>\n",
              "      <td>Ex_S_biomass_ext</td>\n",
              "      <td>S_biomass_ext --&gt;</td>\n",
              "    </tr>\n",
              "  </tbody>\n",
              "</table>"
            ]
          },
          "metadata": {},
          "execution_count": 20
        }
      ]
    },
    {
      "cell_type": "markdown",
      "source": [
        "# need to find carbon flux of the following reactions:  \n",
        "S_cpd11461_c0  \n",
        "S_cpd11463_c0  \n",
        "S_cpd11613_c0  \n",
        "S_cpdnew18_c0  \n",
        "S_cpdnew26_c0  \n",
        "S_cpdnew27_c0 \n"
      ],
      "metadata": {
        "id": "BMQK27PdjxP7"
      }
    },
    {
      "cell_type": "code",
      "source": [
        "mets = ['S_cpd11461_c0', \n",
        "'S_cpd11463_c0' ,\n",
        "'S_cpd11613_c0' , \n",
        "'S_cpdnew18_c0' ,\n",
        "'S_cpdnew26_c0' ,\n",
        "'S_cpdnew27_c0']\n",
        "\n",
        "names = []\n",
        "for r in rct :\n",
        "  names.append(model.metabolites.get_by_id(r).name)\n",
        "\n",
        "print(names)\n"
      ],
      "metadata": {
        "colab": {
          "base_uri": "https://localhost:8080/"
        },
        "id": "QdsyeL5wjv8A",
        "outputId": "7591dac6-50bd-4609-fb0d-acfb34515c7c"
      },
      "execution_count": 27,
      "outputs": [
        {
          "output_type": "stream",
          "name": "stdout",
          "text": [
            "['DNA', 'Protein', 'RNA', 'Propionibacterium lipids', 'Small molecule pool', 'Propionibacterium cell wall']\n"
          ]
        }
      ]
    },
    {
      "cell_type": "markdown",
      "source": [
        "#DNA"
      ],
      "metadata": {
        "id": "ewg--8-eL6o5"
      }
    },
    {
      "cell_type": "code",
      "source": [
        "met = mets[2]\n",
        "model.metabolites.get_by_id(met).summary()\n"
      ],
      "metadata": {
        "colab": {
          "base_uri": "https://localhost:8080/",
          "height": 319
        },
        "id": "9oUSD2jCtNNP",
        "outputId": "3c8ed4c8-a8df-4b5b-b336-050febe98b6b"
      },
      "execution_count": 40,
      "outputs": [
        {
          "output_type": "execute_result",
          "data": {
            "text/plain": [
              "<cobra.summary.metabolite_summary.MetaboliteSummary at 0x7f513c5df950>"
            ],
            "text/html": [
              "<h3>S_cpd11613_c0</h3><p>C15H23O19P3R3</p><h4>Producing Reactions</h4><table border=\"1\" class=\"dataframe\">\n",
              "  <thead>\n",
              "    <tr style=\"text-align: right;\">\n",
              "      <th>Percent</th>\n",
              "      <th>Flux</th>\n",
              "      <th>Reaction</th>\n",
              "      <th>Definition</th>\n",
              "    </tr>\n",
              "  </thead>\n",
              "  <tbody>\n",
              "    <tr>\n",
              "      <td>100.00%</td>\n",
              "      <td>0.1507</td>\n",
              "      <td>rxnnew74_c0</td>\n",
              "      <td>2.026 S_cpd00002_c0 + 1.114 S_cpd00038_c0 + 0.812 S_cpd00052_c0 + 0.69 S_cpd00062_c0 --&gt; 1.326 S_cpd00008_c0 + 1.326 S_cpd00009_c0 + 3.316 S_cpd00012_c0 + S_cpd11613_c0</td>\n",
              "    </tr>\n",
              "  </tbody>\n",
              "</table><h4>Consuming Reactions</h4><table border=\"1\" class=\"dataframe\">\n",
              "  <thead>\n",
              "    <tr style=\"text-align: right;\">\n",
              "      <th>Percent</th>\n",
              "      <th>Flux</th>\n",
              "      <th>Reaction</th>\n",
              "      <th>Definition</th>\n",
              "    </tr>\n",
              "  </thead>\n",
              "  <tbody>\n",
              "    <tr>\n",
              "      <td>100.00%</td>\n",
              "      <td>-0.1507</td>\n",
              "      <td>biomass_c0</td>\n",
              "      <td>0.038 S_cpd11461_c0 + 0.434 S_cpd11463_c0 + 0.176 S_cpd11613_c0 + 0.03 S_cpdnew18_c0 + 0.032 S_cpdnew26_c0 + 0.2 S_cpdnew27_c0 --&gt; S_biomass_ext</td>\n",
              "    </tr>\n",
              "  </tbody>\n",
              "</table>"
            ]
          },
          "metadata": {},
          "execution_count": 40
        }
      ]
    },
    {
      "cell_type": "code",
      "source": [
        "model.reactions.get_by_id('rxnnew67_c0')\n"
      ],
      "metadata": {
        "colab": {
          "base_uri": "https://localhost:8080/",
          "height": 204
        },
        "id": "X-Qh_ibrmDqp",
        "outputId": "00ba8f6e-5b84-4e5c-e729-c5fa53eb424b"
      },
      "execution_count": 30,
      "outputs": [
        {
          "output_type": "execute_result",
          "data": {
            "text/plain": [
              "<Reaction rxnnew67_c0 at 0x7f513ef6e750>"
            ],
            "text/html": [
              "\n",
              "        <table>\n",
              "            <tr>\n",
              "                <td><strong>Reaction identifier</strong></td><td>rxnnew67_c0</td>\n",
              "            </tr><tr>\n",
              "                <td><strong>Name</strong></td><td>Cell wall synthesis</td>\n",
              "            </tr><tr>\n",
              "                <td><strong>Memory address</strong></td>\n",
              "                <td>0x7f513ef6e750</td>\n",
              "            </tr><tr>\n",
              "                <td><strong>Stoichiometry</strong></td>\n",
              "                <td>\n",
              "                    <p style='text-align:right'>0.289 S_cpdnew20_c0 + 0.036 S_cpdnew21_c0 + 0.675 S_cpdnew22_c0 --> S_cpdnew27_c0</p>\n",
              "                    <p style='text-align:right'>0.289 Polysaccharide + 0.036 Lipomannan + 0.675 Propionibacterium peptidoglycan --> Propionibacterium cell wall</p>\n",
              "                </td>\n",
              "            </tr><tr>\n",
              "                <td><strong>GPR</strong></td><td>BIOMASS</td>\n",
              "            </tr><tr>\n",
              "                <td><strong>Lower bound</strong></td><td>0.0</td>\n",
              "            </tr><tr>\n",
              "                <td><strong>Upper bound</strong></td><td>1000.0</td>\n",
              "            </tr>\n",
              "        </table>\n",
              "        "
            ]
          },
          "metadata": {},
          "execution_count": 30
        }
      ]
    },
    {
      "cell_type": "code",
      "source": [
        "# get the eqation to find carbon balance \n",
        "0.1712"
      ],
      "metadata": {
        "id": "s5ky0vIavUj0"
      },
      "execution_count": null,
      "outputs": []
    },
    {
      "cell_type": "code",
      "source": [
        "model.metabolites.get_by_id('S_cpdnew21_c0').summary()"
      ],
      "metadata": {
        "colab": {
          "base_uri": "https://localhost:8080/",
          "height": 261
        },
        "id": "yRqmC5WdLK9U",
        "outputId": "b758e66b-1bb3-4ae1-8d20-a13cc47ad805"
      },
      "execution_count": 37,
      "outputs": [
        {
          "output_type": "execute_result",
          "data": {
            "text/plain": [
              "<cobra.summary.metabolite_summary.MetaboliteSummary at 0x7f513c01c4d0>"
            ],
            "text/html": [
              "<h3>S_cpdnew21_c0</h3><p></p><h4>Producing Reactions</h4><table border=\"1\" class=\"dataframe\">\n",
              "  <thead>\n",
              "    <tr style=\"text-align: right;\">\n",
              "      <th>Percent</th>\n",
              "      <th>Flux</th>\n",
              "      <th>Reaction</th>\n",
              "      <th>Definition</th>\n",
              "    </tr>\n",
              "  </thead>\n",
              "  <tbody>\n",
              "    <tr>\n",
              "      <td>100.00%</td>\n",
              "      <td>0.006165</td>\n",
              "      <td>rxnnew65_c0</td>\n",
              "      <td>30.0 S_cpd00083_c0 --&gt; 30.0 S_cpd00031_c0 + 30.0 S_cpd00067_c0 + S_cpdnew21_c0</td>\n",
              "    </tr>\n",
              "  </tbody>\n",
              "</table><h4>Consuming Reactions</h4><table border=\"1\" class=\"dataframe\">\n",
              "  <thead>\n",
              "    <tr style=\"text-align: right;\">\n",
              "      <th>Percent</th>\n",
              "      <th>Flux</th>\n",
              "      <th>Reaction</th>\n",
              "      <th>Definition</th>\n",
              "    </tr>\n",
              "  </thead>\n",
              "  <tbody>\n",
              "    <tr>\n",
              "      <td>100.00%</td>\n",
              "      <td>-0.006165</td>\n",
              "      <td>rxnnew67_c0</td>\n",
              "      <td>0.289 S_cpdnew20_c0 + 0.036 S_cpdnew21_c0 + 0.675 S_cpdnew22_c0 --&gt; S_cpdnew27_c0</td>\n",
              "    </tr>\n",
              "  </tbody>\n",
              "</table>"
            ]
          },
          "metadata": {},
          "execution_count": 37
        }
      ]
    }
  ]
}